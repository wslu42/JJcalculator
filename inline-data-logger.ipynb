{
 "cells": [
  {
   "cell_type": "code",
   "execution_count": 1,
   "metadata": {},
   "outputs": [],
   "source": [
    "import matplotlib.pyplot as plt\n",
    "import numpy as np\n",
    "def mean(lst):\n",
    "    return(sum(lst)/len(lst))\n",
    "def pltMaxMin(lst, pMF = 1.2):\n",
    "    pMin = mean(lst)-pMF*(max(lst)-min(lst))/2\n",
    "    pMax = mean(lst)+pMF*(max(lst)-min(lst))/2\n",
    "    return(pMin,pMax)"
   ]
  },
  {
   "cell_type": "code",
   "execution_count": 2,
   "metadata": {},
   "outputs": [],
   "source": [
    "def datalogger (locationsINsite, sitexINchip = 9, dimINlocation = 2, dataGen = 'random'):\n",
    "    dimlst = [0] * dimINlocation\n",
    "    locationlst = [dimlst] * locationsINsite\n",
    "    sitexlst = [locationlst] * sitexINchip\n",
    "\n",
    "    for k in range(sitexINchip):\n",
    "        for j in range(locationsINsite):\n",
    "            if dataGen == 'random':\n",
    "                pass\n",
    "            else:\n",
    "                print ('Current location: site {}, location {}'.format(k+1, j+1))\n",
    "            for i in range(dimINlocation):\n",
    "                if dataGen == 'random':\n",
    "                    dimlst[i] = 250 + np.floor(50*(np.floor(100*np.random.rand())/100))\n",
    "                else:\n",
    "                    inp = input()\n",
    "                    if inp == '' or inp == '+' or inp == '.' :\n",
    "                        dimlst[i] = 0\n",
    "                    else:\n",
    "                        dimlst[i] = float(inp)\n",
    "            locationlst[j] = dimlst\n",
    "            dimlst = [0] * dimINlocation\n",
    "        sitexlst[k] = locationlst\n",
    "        locationlst = [dimlst] * locationsINsite\n",
    "    sitexarr = np.array(sitexlst)\n",
    "    return (sitexarr)"
   ]
  },
  {
   "cell_type": "code",
   "execution_count": 3,
   "metadata": {},
   "outputs": [],
   "source": [
    "def spreadPlotCon (sitexarr, sitexINchip = 9):\n",
    "    xWidthAvg = [0]*sitexINchip\n",
    "    yWidthAvg = [0]*sitexINchip\n",
    "    for s in np.arange(sitexINchip):\n",
    "        xWidthAvg[s] = np.average(sitexarr[s,:,0])\n",
    "        yWidthAvg[s] = np.average(sitexarr[s,:,1])\n",
    "\n",
    "    xWidthAvg = np.reshape(xWidthAvg,(int(np.sqrt(sitexINchip)), int(np.sqrt(sitexINchip))))\n",
    "    yWidthAvg = np.reshape(yWidthAvg,(int(np.sqrt(sitexINchip)), int(np.sqrt(sitexINchip))))\n",
    "\n",
    "#     print(xWidthAvg, '\\n\\n', yWidthAvg)\n",
    "    \n",
    "    f = plt.figure(figsize=(12,4))\n",
    "    left, bottom, width, height = 0.1, 0.1, 0.8, 0.8\n",
    "    ax = f.add_axes([left, bottom, width, height]) \n",
    "\n",
    "    plt.subplot(121)\n",
    "    X = np.arange(np.sqrt(sitexINchip))\n",
    "    Y = np.arange(np.sqrt(sitexINchip))[::-1]\n",
    "    cpx = plt.contourf(X, Y, xWidthAvg)\n",
    "    plt.colorbar(cpx)\n",
    "    plt.title('Contour plot on Chip for x-width')\n",
    "    plt.xlabel('x-location')\n",
    "    plt.ylabel('y-location')\n",
    "    plt.grid(True)\n",
    "\n",
    "    plt.subplot(122)\n",
    "    X = np.arange(np.sqrt(sitexINchip))\n",
    "    Y = np.arange(np.sqrt(sitexINchip))[::-1]\n",
    "    cpy = plt.contourf(X, Y, yWidthAvg)\n",
    "    plt.colorbar(cpy)\n",
    "    plt.title('Contour plot on Chip for y-width')\n",
    "    plt.xlabel('x-location')\n",
    "    plt.ylabel('y-location')\n",
    "    plt.grid(True)\n",
    "\n",
    "    plt.show()"
   ]
  },
  {
   "cell_type": "code",
   "execution_count": 4,
   "metadata": {},
   "outputs": [],
   "source": [
    "def spreadPlotConSing (sitexarr, sitexINchip = 9, dimID = 0):\n",
    "    xWidthAvg = [0]*sitexINchip\n",
    "    for s in np.arange(sitexINchip):\n",
    "        xWidthAvg[s] = np.average(sitexarr[s,:,dimID])\n",
    "\n",
    "    xWidthAvg = np.reshape(xWidthAvg,(int(np.sqrt(sitexINchip)), int(np.sqrt(sitexINchip))))\n",
    "\n",
    "    X = np.arange(np.sqrt(sitexINchip))\n",
    "    Y = np.arange(np.sqrt(sitexINchip))[::-1]\n",
    "    cpx = plt.contourf(X, Y, xWidthAvg)\n",
    "    plt.colorbar(cpx)\n",
    "    plt.title('Contour plot on Chip for x-width')\n",
    "    plt.xlabel('x-location')\n",
    "    plt.ylabel('y-location')\n",
    "    plt.grid(True)\n",
    "\n",
    "    plt.show()"
   ]
  },
  {
   "cell_type": "code",
   "execution_count": 5,
   "metadata": {},
   "outputs": [],
   "source": [
    "def speardPlotBar(sitexarr, siteInd = 0):\n",
    "    x_width = sitexarr[siteInd-1,:,0]\n",
    "    y_width = sitexarr[siteInd-1,:,1]\n",
    "    loc = np.arange(len(x_width)) +1\n",
    "\n",
    "    pMF = 1.2\n",
    "    f = plt.figure(figsize=(10,6))\n",
    "\n",
    "    ax1 = plt.subplot(221)\n",
    "    plt.bar(loc, x_width)\n",
    "    plt.xticks(loc)\n",
    "#     plt.ylim(pltMaxMin(x_width)[0], pltMaxMin(x_width)[1])\n",
    "    plt.title('width x-spread')\n",
    "    plt.xlabel('location (left to right)')\n",
    "    plt.ylabel('width ($\\mu m$)')\n",
    "    plt.grid(True)\n",
    "\n",
    "    ax2 = plt.subplot(222)\n",
    "    plt.bar(loc, y_width)\n",
    "    plt.xticks(loc)\n",
    "#     plt.ylim(pltMaxMin(y_width)[0], pltMaxMin(y_width)[1])\n",
    "    plt.title('width y-spread')\n",
    "    plt.xlabel('location (left to right)')\n",
    "    plt.ylabel('width ($\\mu m$)')\n",
    "    plt.grid(True)\n",
    "\n",
    "    ax3 = plt.subplot(223)\n",
    "    plt.bar(loc, y_width*x_width)\n",
    "    plt.xticks(loc)\n",
    "#     plt.ylim(pltMaxMin(y_width*x_width)[0], pltMaxMin(y_width*x_width)[1])\n",
    "    plt.title('junction area spread')\n",
    "    plt.xlabel('location (left to right)')\n",
    "    plt.ylabel('area ($\\mu m^2$)')\n",
    "    plt.grid(True)\n",
    "\n",
    "    ax3 = plt.subplot(224)\n",
    "    plt.plot(loc, y_width/x_width, 'o')\n",
    "    plt.xticks(loc)\n",
    "#     plt.ylim(pltMaxMin(y_width/x_width)[0], pltMaxMin(y_width/x_width)[1])\n",
    "    plt.ylim(0.5,1.5)\n",
    "    plt.title('aspect ratio spread')\n",
    "    plt.xlabel('location (left to right)')\n",
    "    plt.ylabel('aspect ratio (y/x)')\n",
    "    plt.grid(True)\n",
    "\n",
    "    f.tight_layout()\n",
    "    f.suptitle('site #{}'.format(siteInd+1))\n",
    "    f.subplots_adjust(top=0.93)\n",
    "    plt.show()\n",
    "    return(x_width)"
   ]
  },
  {
   "cell_type": "code",
   "execution_count": 8,
   "metadata": {},
   "outputs": [],
   "source": [
    "locations = 2\n",
    "site = 9\n",
    "dim = 2\n",
    "\n",
    "sitexarr = datalogger(locationsINsite = locations, sitexINchip = site, dimINlocation = dim, dataGen = 'manual')"
   ]
  },
  {
   "cell_type": "code",
   "execution_count": null,
   "metadata": {},
   "outputs": [],
   "source": [
    "f = plt.figure(figsize=(8,3))\n",
    "plt.subplot(121)\n",
    "spreadPlotConSing (sitexarr = sitexarr, sitexINchip = site, dimID = 0)"
   ]
  },
  {
   "cell_type": "code",
   "execution_count": null,
   "metadata": {},
   "outputs": [],
   "source": [
    "for s in np.arange(site):\n",
    "    speardPlotBar(siteInd = s, sitexarr = sitexarr)"
   ]
  }
 ],
 "metadata": {
  "kernelspec": {
   "display_name": "Python 3",
   "language": "python",
   "name": "python3"
  },
  "language_info": {
   "codemirror_mode": {
    "name": "ipython",
    "version": 3
   },
   "file_extension": ".py",
   "mimetype": "text/x-python",
   "name": "python",
   "nbconvert_exporter": "python",
   "pygments_lexer": "ipython3",
   "version": "3.7.1"
  },
  "latex_envs": {
   "LaTeX_envs_menu_present": true,
   "autoclose": false,
   "autocomplete": true,
   "bibliofile": "biblio.bib",
   "cite_by": "apalike",
   "current_citInitial": 1,
   "eqLabelWithNumbers": true,
   "eqNumInitial": 1,
   "hotkeys": {
    "equation": "Ctrl-E",
    "itemize": "Ctrl-I"
   },
   "labels_anchors": false,
   "latex_user_defs": false,
   "report_style_numbering": false,
   "user_envs_cfg": false
  },
  "toc": {
   "base_numbering": 1,
   "nav_menu": {},
   "number_sections": true,
   "sideBar": true,
   "skip_h1_title": false,
   "title_cell": "Table of Contents",
   "title_sidebar": "Contents",
   "toc_cell": false,
   "toc_position": {},
   "toc_section_display": true,
   "toc_window_display": false
  },
  "varInspector": {
   "cols": {
    "lenName": 16,
    "lenType": 16,
    "lenVar": 40
   },
   "kernels_config": {
    "python": {
     "delete_cmd_postfix": "",
     "delete_cmd_prefix": "del ",
     "library": "var_list.py",
     "varRefreshCmd": "print(var_dic_list())"
    },
    "r": {
     "delete_cmd_postfix": ") ",
     "delete_cmd_prefix": "rm(",
     "library": "var_list.r",
     "varRefreshCmd": "cat(var_dic_list()) "
    }
   },
   "types_to_exclude": [
    "module",
    "function",
    "builtin_function_or_method",
    "instance",
    "_Feature"
   ],
   "window_display": false
  }
 },
 "nbformat": 4,
 "nbformat_minor": 2
}
