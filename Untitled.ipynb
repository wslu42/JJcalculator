{
 "cells": [
  {
   "cell_type": "code",
   "execution_count": 1,
   "metadata": {},
   "outputs": [],
   "source": [
    "import matplotlib.pyplot as plt\n",
    "import numpy as np\n",
    "def mean(lst):\n",
    "    return(sum(lst)/len(lst))\n",
    "def pltMaxMin(lst, pMF = 1.2):\n",
    "    pMin = mean(lst)-pMF*(max(lst)-min(lst))/2\n",
    "    pMax = mean(lst)+pMF*(max(lst)-min(lst))/2\n",
    "    return(pMin,pMax)"
   ]
  },
  {
   "cell_type": "code",
   "execution_count": 2,
   "metadata": {},
   "outputs": [],
   "source": [
    "def datalogger (locationsINsite, sitexINchip = 9, dimINlocation = 2, dataGen = 'random'):\n",
    "    dimlst = [0] * dimINlocation\n",
    "    locationlst = [dimlst] * locationsINsite\n",
    "    sitexlst = [locationlst] * sitexINchip\n",
    "\n",
    "    for k in range(sitexINchip):\n",
    "        for j in range(locationsINsite):\n",
    "            if dataGen == 'random':\n",
    "                pass\n",
    "            else:\n",
    "                print ('Current location: site {}, location {}'.format(k+1, j+1))\n",
    "            for i in range(dimINlocation):\n",
    "                if dataGen == 'random':\n",
    "                    dimlst[i] = 250 + np.floor(50*(np.floor(100*np.random.rand())/100))\n",
    "                else:\n",
    "                    inp = input()\n",
    "                    if inp == '' or inp == '+' or inp == '.' :\n",
    "                        dimlst[i] = 0\n",
    "                    else:\n",
    "                        dimlst[i] = float(inp)\n",
    "            locationlst[j] = dimlst\n",
    "            dimlst = [0] * dimINlocation\n",
    "        sitexlst[k] = locationlst\n",
    "        locationlst = [dimlst] * locationsINsite\n",
    "    sitexarr = np.array(sitexlst)\n",
    "    return (sitexarr)"
   ]
  },
  {
   "cell_type": "code",
   "execution_count": 3,
   "metadata": {},
   "outputs": [],
   "source": [
    "def spreadPlotCon (sitexarr, sitexINchip = 9):\n",
    "    xWidthAvg = [0]*sitexINchip\n",
    "    yWidthAvg = [0]*sitexINchip\n",
    "    for s in np.arange(sitexINchip):\n",
    "        xWidthAvg[s] = np.average(sitexarr[s,:,0])\n",
    "        yWidthAvg[s] = np.average(sitexarr[s,:,1])\n",
    "\n",
    "    xWidthAvg = np.reshape(xWidthAvg,(int(np.sqrt(sitexINchip)), int(np.sqrt(sitexINchip))))\n",
    "    yWidthAvg = np.reshape(yWidthAvg,(int(np.sqrt(sitexINchip)), int(np.sqrt(sitexINchip))))\n",
    "\n",
    "#     print(xWidthAvg, '\\n\\n', yWidthAvg)\n",
    "    \n",
    "    f = plt.figure(figsize=(12,4))\n",
    "    left, bottom, width, height = 0.1, 0.1, 0.8, 0.8\n",
    "    ax = f.add_axes([left, bottom, width, height]) \n",
    "\n",
    "    plt.subplot(121)\n",
    "    X = np.arange(np.sqrt(sitexINchip))\n",
    "    Y = np.arange(np.sqrt(sitexINchip))[::-1]\n",
    "    cpx = plt.contourf(X, Y, xWidthAvg)\n",
    "    plt.colorbar(cpx)\n",
    "    plt.title('Contour plot on Chip for x-width')\n",
    "    plt.xlabel('x-location')\n",
    "    plt.ylabel('y-location')\n",
    "    plt.grid(True)\n",
    "\n",
    "    plt.subplot(122)\n",
    "    X = np.arange(np.sqrt(sitexINchip))\n",
    "    Y = np.arange(np.sqrt(sitexINchip))[::-1]\n",
    "    cpy = plt.contourf(X, Y, yWidthAvg)\n",
    "    plt.colorbar(cpy)\n",
    "    plt.title('Contour plot on Chip for y-width')\n",
    "    plt.xlabel('x-location')\n",
    "    plt.ylabel('y-location')\n",
    "    plt.grid(True)\n",
    "\n",
    "    plt.show()"
   ]
  },
  {
   "cell_type": "code",
   "execution_count": 4,
   "metadata": {},
   "outputs": [],
   "source": [
    "def spreadPlotConSing (sitexarr, sitexINchip = 9, dimID = 0):\n",
    "    xWidthAvg = [0]*sitexINchip\n",
    "    for s in np.arange(sitexINchip):\n",
    "        xWidthAvg[s] = np.average(sitexarr[s,:,dimID])\n",
    "\n",
    "    xWidthAvg = np.reshape(xWidthAvg,(int(np.sqrt(sitexINchip)), int(np.sqrt(sitexINchip))))\n",
    "\n",
    "    X = np.arange(np.sqrt(sitexINchip))\n",
    "    Y = np.arange(np.sqrt(sitexINchip))[::-1]\n",
    "    cpx = plt.contourf(X, Y, xWidthAvg)\n",
    "    plt.colorbar(cpx)\n",
    "    plt.title('Contour plot on Chip for x-width')\n",
    "    plt.xlabel('x-location')\n",
    "    plt.ylabel('y-location')\n",
    "    plt.grid(True)\n",
    "\n",
    "    plt.show()"
   ]
  },
  {
   "cell_type": "code",
   "execution_count": 5,
   "metadata": {},
   "outputs": [],
   "source": [
    "def speardPlotBar(sitexarr, siteInd = 0):\n",
    "    x_width = sitexarr[siteInd-1,:,0]\n",
    "    y_width = sitexarr[siteInd-1,:,1]\n",
    "    loc = np.arange(len(x_width)) +1\n",
    "\n",
    "    pMF = 1.2\n",
    "    f = plt.figure(figsize=(10,6))\n",
    "\n",
    "    ax1 = plt.subplot(221)\n",
    "    plt.bar(loc, x_width)\n",
    "    plt.xticks(loc)\n",
    "#     plt.ylim(pltMaxMin(x_width)[0], pltMaxMin(x_width)[1])\n",
    "    plt.title('width x-spread')\n",
    "    plt.xlabel('location (left to right)')\n",
    "    plt.ylabel('width ($\\mu m$)')\n",
    "    plt.grid(True)\n",
    "\n",
    "    ax2 = plt.subplot(222)\n",
    "    plt.bar(loc, y_width)\n",
    "    plt.xticks(loc)\n",
    "#     plt.ylim(pltMaxMin(y_width)[0], pltMaxMin(y_width)[1])\n",
    "    plt.title('width y-spread')\n",
    "    plt.xlabel('location (left to right)')\n",
    "    plt.ylabel('width ($\\mu m$)')\n",
    "    plt.grid(True)\n",
    "\n",
    "    ax3 = plt.subplot(223)\n",
    "    plt.bar(loc, y_width*x_width)\n",
    "    plt.xticks(loc)\n",
    "#     plt.ylim(pltMaxMin(y_width*x_width)[0], pltMaxMin(y_width*x_width)[1])\n",
    "    plt.title('junction area spread')\n",
    "    plt.xlabel('location (left to right)')\n",
    "    plt.ylabel('area ($\\mu m^2$)')\n",
    "    plt.grid(True)\n",
    "\n",
    "    ax3 = plt.subplot(224)\n",
    "    plt.plot(loc, y_width/x_width, 'o')\n",
    "    plt.xticks(loc)\n",
    "#     plt.ylim(pltMaxMin(y_width/x_width)[0], pltMaxMin(y_width/x_width)[1])\n",
    "    plt.ylim(0.5,1.5)\n",
    "    plt.title('aspect ratio spread')\n",
    "    plt.xlabel('location (left to right)')\n",
    "    plt.ylabel('aspect ratio (y/x)')\n",
    "    plt.grid(True)\n",
    "\n",
    "    f.tight_layout()\n",
    "    f.suptitle('site #{}'.format(siteInd+1))\n",
    "    f.subplots_adjust(top=0.93)\n",
    "    plt.show()\n",
    "    return(x_width)"
   ]
  },
  {
   "cell_type": "code",
   "execution_count": 7,
   "metadata": {},
   "outputs": [
    {
     "name": "stdout",
     "output_type": "stream",
     "text": [
      "Current location: site 1, location 1\n",
      "0\n",
      "0\n",
      "Current location: site 1, location 2\n",
      "0\n",
      "0\n",
      "Current location: site 2, location 1\n",
      "np\n"
     ]
    },
    {
     "ename": "KeyboardInterrupt",
     "evalue": "",
     "output_type": "error",
     "traceback": [
      "\u001b[1;31m---------------------------------------------------------------------------\u001b[0m",
      "\u001b[1;31mKeyboardInterrupt\u001b[0m                         Traceback (most recent call last)",
      "\u001b[1;32mC:\\ProgramData\\Anaconda3\\lib\\site-packages\\ipykernel\\kernelbase.py\u001b[0m in \u001b[0;36m_input_request\u001b[1;34m(self, prompt, ident, parent, password)\u001b[0m\n\u001b[0;32m    877\u001b[0m             \u001b[1;32mtry\u001b[0m\u001b[1;33m:\u001b[0m\u001b[1;33m\u001b[0m\u001b[1;33m\u001b[0m\u001b[0m\n\u001b[1;32m--> 878\u001b[1;33m                 \u001b[0mident\u001b[0m\u001b[1;33m,\u001b[0m \u001b[0mreply\u001b[0m \u001b[1;33m=\u001b[0m \u001b[0mself\u001b[0m\u001b[1;33m.\u001b[0m\u001b[0msession\u001b[0m\u001b[1;33m.\u001b[0m\u001b[0mrecv\u001b[0m\u001b[1;33m(\u001b[0m\u001b[0mself\u001b[0m\u001b[1;33m.\u001b[0m\u001b[0mstdin_socket\u001b[0m\u001b[1;33m,\u001b[0m \u001b[1;36m0\u001b[0m\u001b[1;33m)\u001b[0m\u001b[1;33m\u001b[0m\u001b[1;33m\u001b[0m\u001b[0m\n\u001b[0m\u001b[0;32m    879\u001b[0m             \u001b[1;32mexcept\u001b[0m \u001b[0mException\u001b[0m\u001b[1;33m:\u001b[0m\u001b[1;33m\u001b[0m\u001b[1;33m\u001b[0m\u001b[0m\n",
      "\u001b[1;32mC:\\ProgramData\\Anaconda3\\lib\\site-packages\\jupyter_client\\session.py\u001b[0m in \u001b[0;36mrecv\u001b[1;34m(self, socket, mode, content, copy)\u001b[0m\n\u001b[0;32m    802\u001b[0m         \u001b[1;32mtry\u001b[0m\u001b[1;33m:\u001b[0m\u001b[1;33m\u001b[0m\u001b[1;33m\u001b[0m\u001b[0m\n\u001b[1;32m--> 803\u001b[1;33m             \u001b[0mmsg_list\u001b[0m \u001b[1;33m=\u001b[0m \u001b[0msocket\u001b[0m\u001b[1;33m.\u001b[0m\u001b[0mrecv_multipart\u001b[0m\u001b[1;33m(\u001b[0m\u001b[0mmode\u001b[0m\u001b[1;33m,\u001b[0m \u001b[0mcopy\u001b[0m\u001b[1;33m=\u001b[0m\u001b[0mcopy\u001b[0m\u001b[1;33m)\u001b[0m\u001b[1;33m\u001b[0m\u001b[1;33m\u001b[0m\u001b[0m\n\u001b[0m\u001b[0;32m    804\u001b[0m         \u001b[1;32mexcept\u001b[0m \u001b[0mzmq\u001b[0m\u001b[1;33m.\u001b[0m\u001b[0mZMQError\u001b[0m \u001b[1;32mas\u001b[0m \u001b[0me\u001b[0m\u001b[1;33m:\u001b[0m\u001b[1;33m\u001b[0m\u001b[1;33m\u001b[0m\u001b[0m\n",
      "\u001b[1;32mC:\\ProgramData\\Anaconda3\\lib\\site-packages\\zmq\\sugar\\socket.py\u001b[0m in \u001b[0;36mrecv_multipart\u001b[1;34m(self, flags, copy, track)\u001b[0m\n\u001b[0;32m    466\u001b[0m         \"\"\"\n\u001b[1;32m--> 467\u001b[1;33m         \u001b[0mparts\u001b[0m \u001b[1;33m=\u001b[0m \u001b[1;33m[\u001b[0m\u001b[0mself\u001b[0m\u001b[1;33m.\u001b[0m\u001b[0mrecv\u001b[0m\u001b[1;33m(\u001b[0m\u001b[0mflags\u001b[0m\u001b[1;33m,\u001b[0m \u001b[0mcopy\u001b[0m\u001b[1;33m=\u001b[0m\u001b[0mcopy\u001b[0m\u001b[1;33m,\u001b[0m \u001b[0mtrack\u001b[0m\u001b[1;33m=\u001b[0m\u001b[0mtrack\u001b[0m\u001b[1;33m)\u001b[0m\u001b[1;33m]\u001b[0m\u001b[1;33m\u001b[0m\u001b[1;33m\u001b[0m\u001b[0m\n\u001b[0m\u001b[0;32m    468\u001b[0m         \u001b[1;31m# have first part already, only loop while more to receive\u001b[0m\u001b[1;33m\u001b[0m\u001b[1;33m\u001b[0m\u001b[1;33m\u001b[0m\u001b[0m\n",
      "\u001b[1;32mzmq/backend/cython/socket.pyx\u001b[0m in \u001b[0;36mzmq.backend.cython.socket.Socket.recv\u001b[1;34m()\u001b[0m\n",
      "\u001b[1;32mzmq/backend/cython/socket.pyx\u001b[0m in \u001b[0;36mzmq.backend.cython.socket.Socket.recv\u001b[1;34m()\u001b[0m\n",
      "\u001b[1;32mzmq/backend/cython/socket.pyx\u001b[0m in \u001b[0;36mzmq.backend.cython.socket._recv_copy\u001b[1;34m()\u001b[0m\n",
      "\u001b[1;32mC:\\ProgramData\\Anaconda3\\lib\\site-packages\\zmq\\backend\\cython\\checkrc.pxd\u001b[0m in \u001b[0;36mzmq.backend.cython.checkrc._check_rc\u001b[1;34m()\u001b[0m\n",
      "\u001b[1;31mKeyboardInterrupt\u001b[0m: ",
      "\nDuring handling of the above exception, another exception occurred:\n",
      "\u001b[1;31mKeyboardInterrupt\u001b[0m                         Traceback (most recent call last)",
      "\u001b[1;32m<ipython-input-7-dbe68d9d46ee>\u001b[0m in \u001b[0;36m<module>\u001b[1;34m\u001b[0m\n\u001b[0;32m      3\u001b[0m \u001b[0mdim\u001b[0m \u001b[1;33m=\u001b[0m \u001b[1;36m2\u001b[0m\u001b[1;33m\u001b[0m\u001b[1;33m\u001b[0m\u001b[0m\n\u001b[0;32m      4\u001b[0m \u001b[1;33m\u001b[0m\u001b[0m\n\u001b[1;32m----> 5\u001b[1;33m \u001b[0msitexarr\u001b[0m \u001b[1;33m=\u001b[0m \u001b[0mdatalogger\u001b[0m\u001b[1;33m(\u001b[0m\u001b[0mlocationsINsite\u001b[0m \u001b[1;33m=\u001b[0m \u001b[0mlocations\u001b[0m\u001b[1;33m,\u001b[0m \u001b[0msitexINchip\u001b[0m \u001b[1;33m=\u001b[0m \u001b[0msite\u001b[0m\u001b[1;33m,\u001b[0m \u001b[0mdimINlocation\u001b[0m \u001b[1;33m=\u001b[0m \u001b[0mdim\u001b[0m\u001b[1;33m,\u001b[0m \u001b[0mdataGen\u001b[0m \u001b[1;33m=\u001b[0m \u001b[1;34m'manual'\u001b[0m\u001b[1;33m)\u001b[0m\u001b[1;33m\u001b[0m\u001b[1;33m\u001b[0m\u001b[0m\n\u001b[0m",
      "\u001b[1;32m<ipython-input-2-b59aa5ed1248>\u001b[0m in \u001b[0;36mdatalogger\u001b[1;34m(locationsINsite, sitexINchip, dimINlocation, dataGen)\u001b[0m\n\u001b[0;32m     14\u001b[0m                     \u001b[0mdimlst\u001b[0m\u001b[1;33m[\u001b[0m\u001b[0mi\u001b[0m\u001b[1;33m]\u001b[0m \u001b[1;33m=\u001b[0m \u001b[1;36m250\u001b[0m \u001b[1;33m+\u001b[0m \u001b[0mnp\u001b[0m\u001b[1;33m.\u001b[0m\u001b[0mfloor\u001b[0m\u001b[1;33m(\u001b[0m\u001b[1;36m50\u001b[0m\u001b[1;33m*\u001b[0m\u001b[1;33m(\u001b[0m\u001b[0mnp\u001b[0m\u001b[1;33m.\u001b[0m\u001b[0mfloor\u001b[0m\u001b[1;33m(\u001b[0m\u001b[1;36m100\u001b[0m\u001b[1;33m*\u001b[0m\u001b[0mnp\u001b[0m\u001b[1;33m.\u001b[0m\u001b[0mrandom\u001b[0m\u001b[1;33m.\u001b[0m\u001b[0mrand\u001b[0m\u001b[1;33m(\u001b[0m\u001b[1;33m)\u001b[0m\u001b[1;33m)\u001b[0m\u001b[1;33m/\u001b[0m\u001b[1;36m100\u001b[0m\u001b[1;33m)\u001b[0m\u001b[1;33m)\u001b[0m\u001b[1;33m\u001b[0m\u001b[1;33m\u001b[0m\u001b[0m\n\u001b[0;32m     15\u001b[0m                 \u001b[1;32melse\u001b[0m\u001b[1;33m:\u001b[0m\u001b[1;33m\u001b[0m\u001b[1;33m\u001b[0m\u001b[0m\n\u001b[1;32m---> 16\u001b[1;33m                     \u001b[0minp\u001b[0m \u001b[1;33m=\u001b[0m \u001b[0minput\u001b[0m\u001b[1;33m(\u001b[0m\u001b[1;33m)\u001b[0m\u001b[1;33m\u001b[0m\u001b[1;33m\u001b[0m\u001b[0m\n\u001b[0m\u001b[0;32m     17\u001b[0m                     \u001b[1;32mif\u001b[0m \u001b[0minp\u001b[0m \u001b[1;33m==\u001b[0m \u001b[1;34m''\u001b[0m \u001b[1;32mor\u001b[0m \u001b[0minp\u001b[0m \u001b[1;33m==\u001b[0m \u001b[1;34m'+'\u001b[0m \u001b[1;32mor\u001b[0m \u001b[0minp\u001b[0m \u001b[1;33m==\u001b[0m \u001b[1;34m'.'\u001b[0m \u001b[1;33m:\u001b[0m\u001b[1;33m\u001b[0m\u001b[1;33m\u001b[0m\u001b[0m\n\u001b[0;32m     18\u001b[0m                         \u001b[0mdimlst\u001b[0m\u001b[1;33m[\u001b[0m\u001b[0mi\u001b[0m\u001b[1;33m]\u001b[0m \u001b[1;33m=\u001b[0m \u001b[1;36m0\u001b[0m\u001b[1;33m\u001b[0m\u001b[1;33m\u001b[0m\u001b[0m\n",
      "\u001b[1;32mC:\\ProgramData\\Anaconda3\\lib\\site-packages\\ipykernel\\kernelbase.py\u001b[0m in \u001b[0;36mraw_input\u001b[1;34m(self, prompt)\u001b[0m\n\u001b[0;32m    851\u001b[0m             \u001b[0mself\u001b[0m\u001b[1;33m.\u001b[0m\u001b[0m_parent_ident\u001b[0m\u001b[1;33m,\u001b[0m\u001b[1;33m\u001b[0m\u001b[1;33m\u001b[0m\u001b[0m\n\u001b[0;32m    852\u001b[0m             \u001b[0mself\u001b[0m\u001b[1;33m.\u001b[0m\u001b[0m_parent_header\u001b[0m\u001b[1;33m,\u001b[0m\u001b[1;33m\u001b[0m\u001b[1;33m\u001b[0m\u001b[0m\n\u001b[1;32m--> 853\u001b[1;33m             \u001b[0mpassword\u001b[0m\u001b[1;33m=\u001b[0m\u001b[1;32mFalse\u001b[0m\u001b[1;33m,\u001b[0m\u001b[1;33m\u001b[0m\u001b[1;33m\u001b[0m\u001b[0m\n\u001b[0m\u001b[0;32m    854\u001b[0m         )\n\u001b[0;32m    855\u001b[0m \u001b[1;33m\u001b[0m\u001b[0m\n",
      "\u001b[1;32mC:\\ProgramData\\Anaconda3\\lib\\site-packages\\ipykernel\\kernelbase.py\u001b[0m in \u001b[0;36m_input_request\u001b[1;34m(self, prompt, ident, parent, password)\u001b[0m\n\u001b[0;32m    881\u001b[0m             \u001b[1;32mexcept\u001b[0m \u001b[0mKeyboardInterrupt\u001b[0m\u001b[1;33m:\u001b[0m\u001b[1;33m\u001b[0m\u001b[1;33m\u001b[0m\u001b[0m\n\u001b[0;32m    882\u001b[0m                 \u001b[1;31m# re-raise KeyboardInterrupt, to truncate traceback\u001b[0m\u001b[1;33m\u001b[0m\u001b[1;33m\u001b[0m\u001b[1;33m\u001b[0m\u001b[0m\n\u001b[1;32m--> 883\u001b[1;33m                 \u001b[1;32mraise\u001b[0m \u001b[0mKeyboardInterrupt\u001b[0m\u001b[1;33m\u001b[0m\u001b[1;33m\u001b[0m\u001b[0m\n\u001b[0m\u001b[0;32m    884\u001b[0m             \u001b[1;32melse\u001b[0m\u001b[1;33m:\u001b[0m\u001b[1;33m\u001b[0m\u001b[1;33m\u001b[0m\u001b[0m\n\u001b[0;32m    885\u001b[0m                 \u001b[1;32mbreak\u001b[0m\u001b[1;33m\u001b[0m\u001b[1;33m\u001b[0m\u001b[0m\n",
      "\u001b[1;31mKeyboardInterrupt\u001b[0m: "
     ]
    }
   ],
   "source": [
    "locations = 2\n",
    "site = 9\n",
    "dim = 2\n",
    "\n",
    "sitexarr = datalogger(locationsINsite = locations, sitexINchip = site, dimINlocation = dim, dataGen = 'manual')"
   ]
  }
 ],
 "metadata": {
  "kernelspec": {
   "display_name": "Python 3",
   "language": "python",
   "name": "python3"
  },
  "language_info": {
   "codemirror_mode": {
    "name": "ipython",
    "version": 3
   },
   "file_extension": ".py",
   "mimetype": "text/x-python",
   "name": "python",
   "nbconvert_exporter": "python",
   "pygments_lexer": "ipython3",
   "version": "3.7.1"
  },
  "latex_envs": {
   "LaTeX_envs_menu_present": true,
   "autoclose": false,
   "autocomplete": true,
   "bibliofile": "biblio.bib",
   "cite_by": "apalike",
   "current_citInitial": 1,
   "eqLabelWithNumbers": true,
   "eqNumInitial": 1,
   "hotkeys": {
    "equation": "Ctrl-E",
    "itemize": "Ctrl-I"
   },
   "labels_anchors": false,
   "latex_user_defs": false,
   "report_style_numbering": false,
   "user_envs_cfg": false
  },
  "toc": {
   "base_numbering": 1,
   "nav_menu": {},
   "number_sections": true,
   "sideBar": true,
   "skip_h1_title": false,
   "title_cell": "Table of Contents",
   "title_sidebar": "Contents",
   "toc_cell": false,
   "toc_position": {},
   "toc_section_display": true,
   "toc_window_display": false
  },
  "varInspector": {
   "cols": {
    "lenName": 16,
    "lenType": 16,
    "lenVar": 40
   },
   "kernels_config": {
    "python": {
     "delete_cmd_postfix": "",
     "delete_cmd_prefix": "del ",
     "library": "var_list.py",
     "varRefreshCmd": "print(var_dic_list())"
    },
    "r": {
     "delete_cmd_postfix": ") ",
     "delete_cmd_prefix": "rm(",
     "library": "var_list.r",
     "varRefreshCmd": "cat(var_dic_list()) "
    }
   },
   "types_to_exclude": [
    "module",
    "function",
    "builtin_function_or_method",
    "instance",
    "_Feature"
   ],
   "window_display": false
  }
 },
 "nbformat": 4,
 "nbformat_minor": 2
}
