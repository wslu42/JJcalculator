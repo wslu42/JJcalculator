{
 "cells": [
  {
   "cell_type": "code",
   "execution_count": 108,
   "metadata": {},
   "outputs": [],
   "source": [
    "\"\"\"\n",
    "Goal: Read from txt and generate EJ, EC, ... based on JJcalc\n",
    "Input: N\n",
    "\"\"\"\n",
    "from si_prefix import si_format\n",
    "import numpy as np\n",
    "import matplotlib.pyplot as plt\n",
    "from IPython.display import display, Markdown, Latex\n",
    "pd.set_option('precision', 2)\n",
    "\n",
    "def JJpar(RN=1e3, sizeX=0.2e-6, sizeY=0.2e-6, metalTHK=250e-10, Tc=1.34, Nser = 16, Npar = 2):\n",
    "   \n",
    "    JJarea = sizeX*sizeY + (sizeX+sizeY)*metalTHK\n",
    "    Rs_JJ = RN * JJarea /Nser *Npar\n",
    "    RN_JJ = RN /Nser *Npar\n",
    "    IAB = const.pi *1.764 *const.k *Tc /2 /const.e /(RN/Nser*Npar)\n",
    "    EJ_JJ = const.h /2 /const.e /2 /const.pi *IAB\n",
    "    C_JJ = 50e-15 *1e12 *JJarea\n",
    "    EC_JJ = const.e*const.e /2 /C_JJ\n",
    "    C0 = ParplateCap(area= 56e-12 , dielecTHK=10e-9, epsilon = 9.34*const.epsilon_0)\n",
    "    EC0 = const.e*const.e /2 /C0\n",
    "   \n",
    "    freqPlasma = np.sqrt(2 *const.e *IAB *2*const.pi /const.h /C_JJ) /2/const.pi\n",
    "    Q = freqPlasma*2*np.pi *RN *C_JJ\n",
    "    EJoEc = EJ_JJ/EC_JJ\n",
    "\n",
    "    key =  [ 'RN_JJ',    'Rs_JJ', 'I_AB',           'EJ',  'C_JJQP',          'EC',   '$\\omega_p$', 'Q', 'beta', 'EJ/EC']\n",
    "    unit=  [  'kohm','kohm*um^2',   'nA',            'K',      'fF',           'K',          'GHz',  '',     '',      '']\n",
    "    lst = [[ RN_JJ/1e3 , Rs_JJ*1e9 ,IAB*1e9, EJ_JJ/const.k , C_JJ*1e15, EC_JJ/const.k, freqPlasma/1e9,  Q ,   Q*Q ,  EJoEc ]]\n",
    "    JJparDFM = pd.DataFrame( data = list(zip(*lst)),      index = key ).transpose()\n",
    "    JJparUNI = pd.DataFrame( data = dict(zip(key, unit)), index = [0] )\n",
    "\n",
    "    return JJparDFM,JJparUNI\n",
    "\n",
    "def ParplateCap(area, dielecTHK, epsilon = 9.34*const.epsilon_0):\n",
    "    return epsilon *area /dielecTHK\n",
    "\n",
    "class samplePara():\n",
    "        def __init__(self, JJparFile, siteN):\n",
    "            with open(JJparFile,'r') as f:\n",
    "                JJspe = pd.read_csv(f).transpose().drop('Unnamed: 0').transpose()\n",
    "            self.JJspe = JJspe[JJspe['Device'] == JJparFile[:4]+'N'+str(siteN)]\n",
    "            self.RN  = float(\"{:10.3e}\".format(JJspe['RN_JJ'][0]*1e3))\n",
    "            self.EJ  = float(\"{:10.3e}\".format(JJspe['EJ'][0]))\n",
    "            self.EC  = float(\"{:10.3e}\".format(JJspe['EC'][0]))\n",
    "            self.IAB = float(\"{:10.3e}\".format(JJspe['I_AB'][0]*1e-9)          "
   ]
  },
  {
   "cell_type": "code",
   "execution_count": 112,
   "metadata": {},
   "outputs": [
    {
     "data": {
      "text/plain": [
       "30580.0"
      ]
     },
     "execution_count": 112,
     "metadata": {},
     "output_type": "execute_result"
    }
   ],
   "source": [
    "a = samplePara(JJparFile = r'D078.csv', siteN = 8)\n",
    "a.RN"
   ]
  }
 ],
 "metadata": {
  "kernelspec": {
   "display_name": "Python 3",
   "language": "python",
   "name": "python3"
  },
  "language_info": {
   "codemirror_mode": {
    "name": "ipython",
    "version": 3
   },
   "file_extension": ".py",
   "mimetype": "text/x-python",
   "name": "python",
   "nbconvert_exporter": "python",
   "pygments_lexer": "ipython3",
   "version": "3.7.1"
  },
  "latex_envs": {
   "LaTeX_envs_menu_present": true,
   "autoclose": false,
   "autocomplete": true,
   "bibliofile": "biblio.bib",
   "cite_by": "apalike",
   "current_citInitial": 1,
   "eqLabelWithNumbers": true,
   "eqNumInitial": 1,
   "hotkeys": {
    "equation": "Ctrl-E",
    "itemize": "Ctrl-I"
   },
   "labels_anchors": false,
   "latex_user_defs": false,
   "report_style_numbering": false,
   "user_envs_cfg": false
  },
  "toc": {
   "base_numbering": 1,
   "nav_menu": {},
   "number_sections": true,
   "sideBar": true,
   "skip_h1_title": false,
   "title_cell": "Table of Contents",
   "title_sidebar": "Contents",
   "toc_cell": false,
   "toc_position": {},
   "toc_section_display": true,
   "toc_window_display": false
  },
  "varInspector": {
   "cols": {
    "lenName": 16,
    "lenType": 16,
    "lenVar": 40
   },
   "kernels_config": {
    "python": {
     "delete_cmd_postfix": "",
     "delete_cmd_prefix": "del ",
     "library": "var_list.py",
     "varRefreshCmd": "print(var_dic_list())"
    },
    "r": {
     "delete_cmd_postfix": ") ",
     "delete_cmd_prefix": "rm(",
     "library": "var_list.r",
     "varRefreshCmd": "cat(var_dic_list()) "
    }
   },
   "types_to_exclude": [
    "module",
    "function",
    "builtin_function_or_method",
    "instance",
    "_Feature"
   ],
   "window_display": false
  }
 },
 "nbformat": 4,
 "nbformat_minor": 2
}
