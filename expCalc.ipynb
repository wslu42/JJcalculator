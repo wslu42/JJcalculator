{
 "cells": [
  {
   "cell_type": "code",
   "execution_count": null,
   "metadata": {},
   "outputs": [],
   "source": [
    "# -*- coding: utf-8 -*-\n",
    "\"\"\"\n",
    "Created on Wed Nov 13 14:53:16 2019\n",
    "\n",
    "@author: racco\n",
    "\"\"\"\n",
    "\n",
    "# -*- coding: utf-8 -*-\n",
    "\"\"\"\n",
    "Created on Tue Sep 04 17:45:43 2018 @author: wsLu\n",
    "\"\"\"\n",
    "from math import *\n",
    "import numpy as np\n",
    "import scipy.constants as const\n",
    "from si_prefix import si_format\n",
    "\n",
    "roundN = 5\n",
    "\n",
    "def thermalNoise(T=300, R=1e9, BW=1e3):\n",
    "    \n",
    "    V_rms = \n",
    "    return \"[RN_JJ (kohm), Rs_JJ (kohm-um^2)] = \" + format([round(RN/1E3, roundN), round(Rs_JJ/1E3/1E-12, roundN)]) +            \"\\n[I_AB (nA), EJ (mK)] = \"            + format([round(IAB/1E-9, roundN), round(EJ_JJ/1E-3/const.k, roundN)]) +            \"\\n[C_JJQP (fF), EC (mK)] = \"          + format([round(C_JJ/1E-15, roundN), round(EC_JJ/1E-3/const.k, roundN)]) +            \"\\n[C0 (fF), EC0 (mK)] = \"             + format([round(C0/1E-15, roundN), round(EC0/1E-3/const.k, roundN)]) +            \"\\n[Freq_plasma (GHz))] = \"            + format([round(freqPlasma/1E9, roundN)]) +            \"\\n[Q, Beta, EJ/EC] = \"                + format([round(Q, 1), round(Q*Q, 1), round(EJ_JJ/min(EC0,EC_JJ), 1)])\n",
    "#    return RN, round(Rs_JJ/1E3/1E-12, roundN), IAB, EJ_JJ/const.k, round(C_JJ/1E-15, roundN), round(EC_JJ/1E-3/const.k, roundN), round(C0/1E-15, roundN), round(EC0/1E-3/const.k, roundN), round(freqPlasma/1E9, roundN), round(Q, 1), round(Q*Q, 1), round(EJ_JJ/min(EC0,EC_JJ), 1)\n",
    "\n",
    "def EJEC(Rs_JJ, JJwidthUM, metalTHKUM=250E-4, Tc=1.34):\n",
    "    \n",
    "    RN = Rs_JJ / ( (JJwidthUM + 2*metalTHKUM) *JJwidthUM )\n",
    "    IAB = const.pi *1.764 *const.k *Tc /2 /const.e /RN \n",
    "    EJ_JJ = const.h /2 /const.e /2 /const.pi *IAB\n",
    "    C_JJ = 50E-15 *JJwidthUM *JJwidthUM \n",
    "    EC_JJ = const.e *const.e /2 /C_JJ\n",
    "    C0 = ParplateCap(area= 56*1E-12 , dielecTHK=10E-9, epsilon = 9.34*const.epsilon_0)\n",
    "    EC0 = const.e *const.e /2 /C0\n",
    "    \n",
    "    freqPlasma = sqrt(2 *const.e *IAB *2*const.pi /const.h /max(C0,C_JJ)) /2/const.pi\n",
    "    Q = freqPlasma*2*pi *RN *max(C0,C_JJ)\n",
    "    return [EJ_JJ/const.k, EC_JJ/const.k]\n",
    "\n",
    "def CfromIVCoffset(IVCoffset):\n",
    "    \"\"\"\n",
    "    Extract C from IV curve V offset for high Ibias branch with V = IR +e/2C\n",
    "    IVCoffset: V offset from linear fits of IVC at high Ibias branch (V)\n",
    "    return: C per JJ (fF/JJ)\n",
    "    \"\"\"\n",
    "    C = const.e /2 /IVCoffset *1E15 *30 /2\n",
    "#    return C\n",
    "    return \"C_IVCoffset/JJ (fF/JJ) = \" + format(round(C, roundN))\n",
    "\n",
    "def ParplateCap(area, dielecTHK, epsilon = 9.34*const.epsilon_0):\n",
    "    \"\"\"\n",
    "    \"\"\"\n",
    "    C = epsilon *area /dielecTHK\n",
    "    return C\n",
    "#    return \"C_parallelPlate (fF) = \" + format(C *1E15)\n"
   ]
  }
 ],
 "metadata": {
  "kernelspec": {
   "display_name": "Python 3",
   "language": "python",
   "name": "python3"
  },
  "language_info": {
   "codemirror_mode": {
    "name": "ipython",
    "version": 3
   },
   "file_extension": ".py",
   "mimetype": "text/x-python",
   "name": "python",
   "nbconvert_exporter": "python",
   "pygments_lexer": "ipython3",
   "version": "3.7.1"
  },
  "latex_envs": {
   "LaTeX_envs_menu_present": true,
   "autoclose": false,
   "autocomplete": true,
   "bibliofile": "biblio.bib",
   "cite_by": "apalike",
   "current_citInitial": 1,
   "eqLabelWithNumbers": true,
   "eqNumInitial": 1,
   "hotkeys": {
    "equation": "Ctrl-E",
    "itemize": "Ctrl-I"
   },
   "labels_anchors": false,
   "latex_user_defs": false,
   "report_style_numbering": false,
   "user_envs_cfg": false
  },
  "toc": {
   "base_numbering": 1,
   "nav_menu": {},
   "number_sections": true,
   "sideBar": true,
   "skip_h1_title": false,
   "title_cell": "Table of Contents",
   "title_sidebar": "Contents",
   "toc_cell": false,
   "toc_position": {},
   "toc_section_display": true,
   "toc_window_display": false
  },
  "varInspector": {
   "cols": {
    "lenName": 16,
    "lenType": 16,
    "lenVar": 40
   },
   "kernels_config": {
    "python": {
     "delete_cmd_postfix": "",
     "delete_cmd_prefix": "del ",
     "library": "var_list.py",
     "varRefreshCmd": "print(var_dic_list())"
    },
    "r": {
     "delete_cmd_postfix": ") ",
     "delete_cmd_prefix": "rm(",
     "library": "var_list.r",
     "varRefreshCmd": "cat(var_dic_list()) "
    }
   },
   "types_to_exclude": [
    "module",
    "function",
    "builtin_function_or_method",
    "instance",
    "_Feature"
   ],
   "window_display": false
  }
 },
 "nbformat": 4,
 "nbformat_minor": 2
}
