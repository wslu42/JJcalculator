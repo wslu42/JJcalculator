{
 "cells": [
  {
   "cell_type": "markdown",
   "metadata": {},
   "source": [
    "# lib loading"
   ]
  },
  {
   "cell_type": "code",
   "execution_count": 2,
   "metadata": {},
   "outputs": [],
   "source": [
    "from JJcalc import *\n",
    "from si_prefix import si_format\n",
    "import numpy as np\n",
    "import matplotlib.pyplot as plt\n",
    "from IPython.display import display, Markdown, Latex"
   ]
  },
  {
   "cell_type": "markdown",
   "metadata": {},
   "source": [
    "# List of devices"
   ]
  },
  {
   "cell_type": "code",
   "execution_count": 64,
   "metadata": {
    "scrolled": true
   },
   "outputs": [
    {
     "name": "stdout",
     "output_type": "stream",
     "text": [
      "\n",
      "Hero device: D074N4, $R_N = 21k\\Omega, E_J = 2.8K, E_C = 9.7mK$ \n",
      "\n",
      "D074 site9: \n",
      "[RN_JJ (kohm), Rs_JJ (kohm-um^2)] = [96.0, 8.06087]\n",
      "[I_AB (nA), EJ (mK)] = [3.33292, 79.44698]\n",
      "[C_JJQP (fF), EC (mK)] = [3.53375, 263.07031]\n",
      "[C0 (fF), EC0 (mK)] = [463.10944, 2.00735]\n",
      "[Freq_plasma (GHz))] = [0.74426]\n",
      "[Q, Beta, EJ/EC] = [207.9, 43223.0, 39.6]\n",
      "\n",
      "D074 site1: \n",
      "[RN_JJ (kohm), Rs_JJ (kohm-um^2)] = [200.0, 10.6835]\n",
      "[I_AB (nA), EJ (mK)] = [1.5998, 38.13455]\n",
      "[C_JJQP (fF), EC (mK)] = [2.1522, 431.94159]\n",
      "[C0 (fF), EC0 (mK)] = [463.10944, 2.00735]\n",
      "[Freq_plasma (GHz))] = [0.51564]\n",
      "[Q, Beta, EJ/EC] = [300.1, 90048.0, 19.0]\n",
      "\n",
      "D074 site2: \n",
      "[RN_JJ (kohm), Rs_JJ (kohm-um^2)] = [91.25, 7.30033]\n",
      "[I_AB (nA), EJ (mK)] = [3.50641, 83.58258]\n",
      "[C_JJQP (fF), EC (mK)] = [3.3528, 277.26816]\n",
      "[C0 (fF), EC0 (mK)] = [463.10944, 2.00735]\n",
      "[Freq_plasma (GHz))] = [0.76338]\n",
      "[Q, Beta, EJ/EC] = [202.7, 41084.4, 41.6]\n",
      "\n",
      "D074 site3: \n",
      "[RN_JJ (kohm), Rs_JJ (kohm-um^2)] = [47.0, 10.73719]\n",
      "[I_AB (nA), EJ (mK)] = [6.80766, 162.27469]\n",
      "[C_JJQP (fF), EC (mK)] = [10.2885, 90.35571]\n",
      "[C0 (fF), EC0 (mK)] = [463.10944, 2.00735]\n",
      "[Freq_plasma (GHz))] = [1.06368]\n",
      "[Q, Beta, EJ/EC] = [145.5, 21161.3, 80.8]\n",
      "\n",
      "D074 site4: \n",
      "[RN_JJ (kohm), Rs_JJ (kohm-um^2)] = [4.82222, 9.55152]\n",
      "[I_AB (nA), EJ (mK)] = [66.3512, 1581.61733]\n",
      "[C_JJQP (fF), EC (mK)] = [95.58, 9.72614]\n",
      "[C0 (fF), EC0 (mK)] = [463.10944, 2.00735]\n",
      "[Freq_plasma (GHz))] = [3.32074]\n",
      "[Q, Beta, EJ/EC] = [46.6, 2171.2, 787.9]\n",
      "\n",
      "D074 site5: \n",
      "[RN_JJ (kohm), Rs_JJ (kohm-um^2)] = [0.27625, 1.36744]\n",
      "[I_AB (nA), EJ (mK)] = [1158.22707, 27608.72477]\n",
      "[C_JJQP (fF), EC (mK)] = [242.0, 3.84142]\n",
      "[C0 (fF), EC0 (mK)] = [463.10944, 2.00735]\n",
      "[Freq_plasma (GHz))] = [13.87418]\n",
      "[Q, Beta, EJ/EC] = [11.2, 124.4, 13753.8]\n",
      "\n",
      "D074 site6: \n",
      "[RN_JJ (kohm), Rs_JJ (kohm-um^2)] = [3.18, 15.741]\n",
      "[I_AB (nA), EJ (mK)] = [100.61642, 2398.39944]\n",
      "[C_JJQP (fF), EC (mK)] = [242.0, 3.84142]\n",
      "[C0 (fF), EC0 (mK)] = [463.10944, 2.00735]\n",
      "[Freq_plasma (GHz))] = [4.08926]\n",
      "[Q, Beta, EJ/EC] = [37.8, 1431.8, 1194.8]\n",
      "\n",
      "D074 site7: \n",
      "[RN_JJ (kohm), Rs_JJ (kohm-um^2)] = [43.75, 3.94332]\n",
      "[I_AB (nA), EJ (mK)] = [7.31338, 174.32938]\n",
      "[C_JJQP (fF), EC (mK)] = [3.816, 243.61234]\n",
      "[C0 (fF), EC0 (mK)] = [463.10944, 2.00735]\n",
      "[Freq_plasma (GHz))] = [1.10248]\n",
      "[Q, Beta, EJ/EC] = [140.3, 19698.0, 86.8]\n",
      "\n",
      "D074 site8: \n",
      "[RN_JJ (kohm), Rs_JJ (kohm-um^2)] = [3.625, 6.68841]\n",
      "[I_AB (nA), EJ (mK)] = [88.26489, 2103.97523]\n",
      "[C_JJQP (fF), EC (mK)] = [88.92, 10.45462]\n",
      "[C0 (fF), EC0 (mK)] = [463.10944, 2.00735]\n",
      "[Freq_plasma (GHz))] = [3.83005]\n",
      "[Q, Beta, EJ/EC] = [40.4, 1632.1, 1048.1]\n",
      "\n",
      "D074 site0: \n",
      "[RN_JJ (kohm), Rs_JJ (kohm-um^2)] = [0.20375, 1.00856]\n",
      "[I_AB (nA), EJ (mK)] = [1570.35695, 37432.68819]\n",
      "[C_JJQP (fF), EC (mK)] = [242.0, 3.84142]\n",
      "[C0 (fF), EC0 (mK)] = [463.10944, 2.00735]\n",
      "[Freq_plasma (GHz))] = [16.1551]\n",
      "[Q, Beta, EJ/EC] = [9.6, 91.7, 18647.8]\n",
      "\n"
     ]
    }
   ],
   "source": [
    "# wet oxigen 201 torr, 15min. Recorded on 191120, dep by Plamen, skip RIE by wsLu. dim corrected by SEM\n",
    "print('\\nHero device: D074N4, $R_N = 21k\\Omega, E_J = 2.8K, E_C = 9.7mK$ \\n')\n",
    "\n",
    "print('D074 site9: \\n'+JJparameters(RN= 768e3/ 8, JJwidthUM=np.sqrt( .275 *  .257), metalTHK=250E-10, Tc=1.34)+'\\n')#ox 8.06\n",
    "print('D074 site1: \\n'+JJparameters(RN= 100e3/.5, JJwidthUM=np.sqrt( .211 *  .204), metalTHK=250E-10, Tc=1.34)+'\\n')#ESD damaged, 1e3 now\n",
    "print('D074 site2: \\n'+JJparameters(RN= 730e3/ 8, JJwidthUM=np.sqrt( .264 *  .254), metalTHK=250E-10, Tc=1.34)+'\\n')#ox 7.30\n",
    "print('D074 site3: \\n'+JJparameters(RN= 329e3/ 7, JJwidthUM=np.sqrt( .722 *  .285), metalTHK=250E-10, Tc=1.34)+'\\n')#ox 9.39\n",
    "print('D074 site4: \\n'+JJparameters(RN=21.7e3/ 4.5, JJwidthUM=np.sqrt( 1.08 *  1.77), metalTHK=250E-10, Tc=1.34)+'\\n')#ox 5.37\n",
    "print('D074 site5: \\n'+JJparameters(RN=2.21e3/ 8, JJwidthUM=np.sqrt(  2.2 *   2.2), metalTHK=250E-10, Tc=1.34)+'\\n')#secondary short\n",
    "print('D074 site6: \\n'+JJparameters(RN=1.59e3/.5, JJwidthUM=np.sqrt(  2.2 *   2.2), metalTHK=250E-10, Tc=1.34)+'\\n')#secondary short\n",
    "print('D074 site7: \\n'+JJparameters(RN= 350e3/ 8, JJwidthUM=np.sqrt( .265 *  .288), metalTHK=250E-10, Tc=1.34)+'\\n')#meas error? 104e3 now\n",
    "print('D074 site8: \\n'+JJparameters(RN=  29e3/ 8, JJwidthUM=np.sqrt( 1.04 *  1.71), metalTHK=250E-10, Tc=1.34)+'\\n')#meas error? 8.8e3 now\n",
    "print('D074 site0: \\n'+JJparameters(RN=1.63e3/ 8, JJwidthUM=np.sqrt(  2.2 *   2.2), metalTHK=250E-10, Tc=1.34)+'\\n')#secondary short"
   ]
  },
  {
   "cell_type": "code",
   "execution_count": 4,
   "metadata": {
    "scrolled": true
   },
   "outputs": [
    {
     "name": "stdout",
     "output_type": "stream",
     "text": [
      "unlabeled site9: \n",
      "[RN_JJ (kohm), Rs_JJ (kohm-um^2)] = [46.5, 3.90448]\n",
      "[I_AB (nA), EJ (mK)] = [6.88087, 164.01957]\n",
      "[C_JJQP (fF), EC (mK)] = [3.53375, 263.07031]\n",
      "[C0 (fF), EC0 (mK)] = [463.10944, 2.00735]\n",
      "[Freq_plasma (GHz))] = [1.06938]\n",
      "[Q, Beta, EJ/EC] = [144.7, 20936.1, 81.7]\n",
      "\n",
      "unlabeled site1: \n",
      "[RN_JJ (kohm), Rs_JJ (kohm-um^2)] = [95.4, 5.09603]\n",
      "[I_AB (nA), EJ (mK)] = [3.35388, 79.94665]\n",
      "[C_JJQP (fF), EC (mK)] = [2.1522, 431.94159]\n",
      "[C0 (fF), EC0 (mK)] = [463.10944, 2.00735]\n",
      "[Freq_plasma (GHz))] = [0.74659]\n",
      "[Q, Beta, EJ/EC] = [207.3, 42952.9, 39.8]\n",
      "\n",
      "unlabeled site8: \n",
      "[RN_JJ (kohm), Rs_JJ (kohm-um^2)] = [1.25, 2.18002]\n",
      "[I_AB (nA), EJ (mK)] = [255.96818, 6101.52818]\n",
      "[C_JJQP (fF), EC (mK)] = [83.961, 11.0721]\n",
      "[C0 (fF), EC0 (mK)] = [463.10944, 2.00735]\n",
      "[Freq_plasma (GHz))] = [6.52234]\n",
      "[Q, Beta, EJ/EC] = [23.7, 562.8, 3039.6]\n",
      "\n",
      "unlabeled site0: \n",
      "[RN_JJ (kohm), Rs_JJ (kohm-um^2)] = [8.875, 30.82502]\n",
      "[I_AB (nA), EJ (mK)] = [36.05186, 859.37017]\n",
      "[C_JJQP (fF), EC (mK)] = [169.065, 5.49862]\n",
      "[C0 (fF), EC0 (mK)] = [463.10944, 2.00735]\n",
      "[Freq_plasma (GHz))] = [2.44779]\n",
      "[Q, Beta, EJ/EC] = [63.2, 3995.9, 428.1]\n",
      "\n"
     ]
    }
   ],
   "source": [
    "# wet oxigen 201 torr, 15min. Recorded on 191120\n",
    "# Device depositied after D074 by Plamen\n",
    "print('unlabeled site9: \\n'+JJparameters(RN= 372e3/ 8, JJwidthUM=np.sqrt( .275 *  .257), metalTHK=250E-10, Tc=1.34)+'\\n')\n",
    "print('unlabeled site1: \\n'+JJparameters(RN=47.7e3/.5, JJwidthUM=np.sqrt( .211 *  .204), metalTHK=250E-10, Tc=1.34)+'\\n')\n",
    "print('unlabeled site8: \\n'+JJparameters(RN=  10e3/ 8, JJwidthUM=np.sqrt( .982 *  1.71), metalTHK=250E-10, Tc=1.34)+'\\n')\n",
    "print('unlabeled site0: \\n'+JJparameters(RN=  71e3/ 8, JJwidthUM=np.sqrt( 2.21 *  1.53), metalTHK=250E-10, Tc=1.34)+'\\n')"
   ]
  },
  {
   "cell_type": "code",
   "execution_count": 17,
   "metadata": {},
   "outputs": [
    {
     "data": {
      "text/markdown": [
       "Hero device: D078N5, $R_N = 18k\\Omega, E_J = 427mK, E_C = 4.8mK$ \n"
      ],
      "text/plain": [
       "<IPython.core.display.Markdown object>"
      ]
     },
     "metadata": {},
     "output_type": "display_data"
    },
    {
     "name": "stdout",
     "output_type": "stream",
     "text": [
      "D078 site5: \n",
      "[RN_JJ (kohm), Rs_JJ (kohm-um^2)] = [17.825, 70.51762]\n",
      "[I_AB (nA), EJ (mK)] = [17.95008, 427.87715]\n",
      "[C_JJQP (fF), EC (mK)] = [192.895, 4.81933]\n",
      "[C0 (fF), EC0 (mK)] = [463.10944, 2.00735]\n",
      "[Freq_plasma (GHz))] = [1.7272]\n",
      "[Q, Beta, EJ/EC] = [89.6, 8025.5, 213.2]\n",
      "\n",
      "D078 site6: \n",
      "[RN_JJ (kohm), Rs_JJ (kohm-um^2)] = [20.8, 76.98813]\n",
      "[I_AB (nA), EJ (mK)] = [15.3827, 366.67838]\n",
      "[C_JJQP (fF), EC (mK)] = [180.32, 5.15542]\n",
      "[C0 (fF), EC0 (mK)] = [463.10944, 2.00735]\n",
      "[Freq_plasma (GHz))] = [1.59892]\n",
      "[Q, Beta, EJ/EC] = [96.8, 9365.0, 182.7]\n",
      "\n",
      "D078 site8: \n",
      "[RN_JJ (kohm), Rs_JJ (kohm-um^2)] = [39.375, 68.89443]\n",
      "[I_AB (nA), EJ (mK)] = [8.12597, 193.69931]\n",
      "[C_JJQP (fF), EC (mK)] = [84.24, 11.03543]\n",
      "[C0 (fF), EC0 (mK)] = [463.10944, 2.00735]\n",
      "[Freq_plasma (GHz))] = [1.16211]\n",
      "[Q, Beta, EJ/EC] = [133.1, 17728.2, 96.5]\n",
      "\n",
      "D078 site0: \n",
      "[RN_JJ (kohm), Rs_JJ (kohm-um^2)] = [18.4375, 72.85298]\n",
      "[I_AB (nA), EJ (mK)] = [17.35378, 413.66293]\n",
      "[C_JJQP (fF), EC (mK)] = [192.66, 4.82521]\n",
      "[C0 (fF), EC0 (mK)] = [463.10944, 2.00735]\n",
      "[Freq_plasma (GHz))] = [1.69827]\n",
      "[Q, Beta, EJ/EC] = [91.1, 8301.3, 206.1]\n",
      "\n"
     ]
    }
   ],
   "source": [
    "#D078 wet oxygen 375 torr, 30min. Recorded on 191121, dep by Plamen. dim corrected by SEM\n",
    "display(Markdown('Hero device: D078N5, $R_N = 18k\\Omega, E_J = 427mK, E_C = 4.8mK$ \\n'))\n",
    "\n",
    "print('D078 site5: \\n'+JJparameters(RN= 142.6e3/ 8, JJwidthUM=np.sqrt( 2.23 *  1.73), metalTHK=250E-10, Tc=1.34)+'\\n')\n",
    "print('D078 site6: \\n'+JJparameters(RN=  10.4e3/.5, JJwidthUM=np.sqrt( 2.24 *  1.61), metalTHK=250E-10, Tc=1.34)+'\\n')\n",
    "print('D078 site8: \\n'+JJparameters(RN=   315e3/ 8, JJwidthUM=np.sqrt( 1.44 *  1.17), metalTHK=250E-10, Tc=1.34)+'\\n')\n",
    "print('D078 site0: \\n'+JJparameters(RN= 147.5e3/ 8, JJwidthUM=np.sqrt( 2.28 *  1.69), metalTHK=250E-10, Tc=1.34)+'\\n')"
   ]
  },
  {
   "cell_type": "code",
   "execution_count": 4,
   "metadata": {
    "scrolled": false
   },
   "outputs": [
    {
     "name": "stdout",
     "output_type": "stream",
     "text": [
      "D079 site1: \n",
      "[RN_JJ (kohm), Rs_JJ (kohm-um^2)] = [460.0, 18.48234]\n",
      "[I_AB (nA), EJ (mK)] = [0.69557, 16.58024]\n",
      "[C_JJQP (fF), EC (mK)] = [1.56645, 593.45954]\n",
      "[C0 (fF), EC0 (mK)] = [463.10944, 2.00735]\n",
      "[Freq_plasma (GHz))] = [0.34]\n",
      "[Q, Beta, EJ/EC] = [455.1, 207110.3, 8.3]\n",
      "\n",
      "D079 site2: \n",
      "[RN_JJ (kohm), Rs_JJ (kohm-um^2)] = [213.75, 11.28191]\n",
      "[I_AB (nA), EJ (mK)] = [1.49689, 35.68145]\n",
      "[C_JJQP (fF), EC (mK)] = [2.1238, 437.71763]\n",
      "[C0 (fF), EC0 (mK)] = [463.10944, 2.00735]\n",
      "[Freq_plasma (GHz))] = [0.49878]\n",
      "[Q, Beta, EJ/EC] = [310.2, 96238.8, 17.8]\n",
      "\n",
      "D079 site3: \n",
      "[RN_JJ (kohm), Rs_JJ (kohm-um^2)] = [61.25, 14.01989]\n",
      "[I_AB (nA), EJ (mK)] = [5.22384, 124.52098]\n",
      "[C_JJQP (fF), EC (mK)] = [10.3096, 90.17078]\n",
      "[C0 (fF), EC0 (mK)] = [463.10944, 2.00735]\n",
      "[Freq_plasma (GHz))] = [0.93176]\n",
      "[Q, Beta, EJ/EC] = [166.1, 27577.2, 62.0]\n",
      "\n",
      "D079 site5: \n",
      "[RN_JJ (kohm), Rs_JJ (kohm-um^2)] = [9.375, 37.63061]\n",
      "[I_AB (nA), EJ (mK)] = [34.12909, 813.53709]\n",
      "[C_JJQP (fF), EC (mK)] = [195.75, 4.74904]\n",
      "[C0 (fF), EC0 (mK)] = [463.10944, 2.00735]\n",
      "[Freq_plasma (GHz))] = [2.38162]\n",
      "[Q, Beta, EJ/EC] = [65.0, 4221.0, 405.3]\n",
      "\n",
      "D079 site6: \n",
      "[RN_JJ (kohm), Rs_JJ (kohm-um^2)] = [4.08, 15.90663]\n",
      "[I_AB (nA), EJ (mK)] = [78.42162, 1869.34074]\n",
      "[C_JJQP (fF), EC (mK)] = [190.06, 4.89122]\n",
      "[C0 (fF), EC0 (mK)] = [463.10944, 2.00735]\n",
      "[Freq_plasma (GHz))] = [3.61018]\n",
      "[Q, Beta, EJ/EC] = [42.9, 1837.0, 931.2]\n",
      "\n",
      "D079 site7: \n",
      "[RN_JJ (kohm), Rs_JJ (kohm-um^2)] = [262.5, 15.46297]\n",
      "[I_AB (nA), EJ (mK)] = [1.2189, 29.0549]\n",
      "[C_JJQP (fF), EC (mK)] = [2.39785, 387.69093]\n",
      "[C0 (fF), EC0 (mK)] = [463.10944, 2.00735]\n",
      "[Freq_plasma (GHz))] = [0.45008]\n",
      "[Q, Beta, EJ/EC] = [343.8, 118187.9, 14.5]\n",
      "\n",
      "D079 site8: \n",
      "[RN_JJ (kohm), Rs_JJ (kohm-um^2)] = [6.4875, 9.77072]\n",
      "[I_AB (nA), EJ (mK)] = [49.3195, 1175.63163]\n",
      "[C_JJQP (fF), EC (mK)] = [72.298, 12.85824]\n",
      "[C0 (fF), EC0 (mK)] = [463.10944, 2.00735]\n",
      "[Freq_plasma (GHz))] = [2.86299]\n",
      "[Q, Beta, EJ/EC] = [54.0, 2920.9, 585.7]\n",
      "\n",
      "D079 site9: \n",
      "[RN_JJ (kohm), Rs_JJ (kohm-um^2)] = [230.0, 15.74885]\n",
      "[I_AB (nA), EJ (mK)] = [1.39113, 33.16048]\n",
      "[C_JJQP (fF), EC (mK)] = [2.829, 328.60541]\n",
      "[C0 (fF), EC0 (mK)] = [463.10944, 2.00735]\n",
      "[Freq_plasma (GHz))] = [0.48083]\n",
      "[Q, Beta, EJ/EC] = [321.8, 103555.1, 16.5]\n",
      "\n",
      "D079 site0: \n",
      "[RN_JJ (kohm), Rs_JJ (kohm-um^2)] = [3.05, 11.54961]\n",
      "[I_AB (nA), EJ (mK)] = [104.90499, 2500.6263]\n",
      "[C_JJQP (fF), EC (mK)] = [184.535, 5.03766]\n",
      "[C0 (fF), EC0 (mK)] = [463.10944, 2.00735]\n",
      "[Freq_plasma (GHz))] = [4.1755]\n",
      "[Q, Beta, EJ/EC] = [37.1, 1373.2, 1245.7]\n",
      "\n"
     ]
    }
   ],
   "source": [
    "#D079 wet oxygen 375 torr, 30min. Recorded on 191122, dep by Plamen, meas by Plamen\n",
    "#There was potentail air mixing during oxidation process, which might reduce the oxigen pressure and cause lower oxidation condi. compared to D078 \n",
    "\n",
    "print('D079 site1: \\n'+JJparameters(RN=  230e3/.5, JJwidthUM=np.sqrt( .177 *  .177), metalTHK=250E-10, Tc=1.34)+'\\n')\n",
    "print('D079 site2: \\n'+JJparameters(RN= 1710e3/ 8, JJwidthUM=np.sqrt( .259 *  .164), metalTHK=250E-10, Tc=1.34)+'\\n')\n",
    "print('D079 site3: \\n'+JJparameters(RN=  490e3/ 8, JJwidthUM=np.sqrt( .784 *  .263), metalTHK=250E-10, Tc=1.34)+'\\n')\n",
    "# print('D079 site4: \\n'+JJparameters(RN=    0e3/ 8, JJwidthUM=np.sqrt( 1.55 *  1.04), metalTHK=250E-10, Tc=1.34)+'\\n')\n",
    "print('D079 site5: \\n'+JJparameters(RN=   75e3/ 8, JJwidthUM=np.sqrt( 2.25 *  1.74), metalTHK=250E-10, Tc=1.34)+'\\n')\n",
    "print('D079 site6: \\n'+JJparameters(RN= 2.04e3/.5, JJwidthUM=np.sqrt( 2.21 *  1.72), metalTHK=250E-10, Tc=1.34)+'\\n')\n",
    "print('D079 site7: \\n'+JJparameters(RN= 2100e3/ 8, JJwidthUM=np.sqrt( .217 *  .221), metalTHK=250E-10, Tc=1.34)+'\\n')\n",
    "print('D079 site8: \\n'+JJparameters(RN= 51.9e3/ 8, JJwidthUM=np.sqrt( 1.48 *  .977), metalTHK=250E-10, Tc=1.34)+'\\n')\n",
    "print('D079 site9: \\n'+JJparameters(RN= 1840e3/ 8, JJwidthUM=np.sqrt( .230 *  .246), metalTHK=250E-10, Tc=1.34)+'\\n')\n",
    "print('D079 site0: \\n'+JJparameters(RN= 24.4e3/ 8, JJwidthUM=np.sqrt( 2.21 *  1.67), metalTHK=250E-10, Tc=1.34)+'\\n')"
   ]
  },
  {
   "cell_type": "code",
   "execution_count": 3,
   "metadata": {
    "scrolled": false
   },
   "outputs": [
    {
     "name": "stdout",
     "output_type": "stream",
     "text": [
      "D079 site1: \n",
      "[RN_JJ (kohm), Rs_JJ (kohm-um^2)] = [580.0, 23.30382]\n",
      "[I_AB (nA), EJ (mK)] = [1.10331, 26.29969]\n",
      "[C_JJQP (fF), EC (mK)] = [1.56645, 593.45954]\n",
      "[C0 (fF), EC0 (mK)] = [463.10944, 2.00735]\n",
      "[Freq_plasma (GHz))] = [0.42821]\n",
      "[Q, Beta, EJ/EC] = [722.7, 522278.1, 13.1]\n",
      "\n",
      "D079 site3: \n",
      "[RN_JJ (kohm), Rs_JJ (kohm-um^2)] = [65.0, 14.87825]\n",
      "[I_AB (nA), EJ (mK)] = [9.84493, 234.67416]\n",
      "[C_JJQP (fF), EC (mK)] = [10.3096, 90.17078]\n",
      "[C0 (fF), EC0 (mK)] = [463.10944, 2.00735]\n",
      "[Freq_plasma (GHz))] = [1.27914]\n",
      "[Q, Beta, EJ/EC] = [241.9, 58531.2, 116.9]\n",
      "\n",
      "D079 site5: \n",
      "[RN_JJ (kohm), Rs_JJ (kohm-um^2)] = [3.375, 13.54702]\n",
      "[I_AB (nA), EJ (mK)] = [189.60606, 4519.6505]\n",
      "[C_JJQP (fF), EC (mK)] = [195.75, 4.74904]\n",
      "[C0 (fF), EC0 (mK)] = [463.10944, 2.00735]\n",
      "[Freq_plasma (GHz))] = [5.61354]\n",
      "[Q, Beta, EJ/EC] = [55.1, 3039.1, 2251.5]\n",
      "\n",
      "D079 site6: \n",
      "[RN_JJ (kohm), Rs_JJ (kohm-um^2)] = [4.3, 16.76434]\n",
      "[I_AB (nA), EJ (mK)] = [148.81871, 3547.4001]\n",
      "[C_JJQP (fF), EC (mK)] = [190.06, 4.89122]\n",
      "[C0 (fF), EC0 (mK)] = [463.10944, 2.00735]\n",
      "[Freq_plasma (GHz))] = [4.97324]\n",
      "[Q, Beta, EJ/EC] = [62.2, 3872.1, 1767.2]\n",
      "\n",
      "D079 site0: \n",
      "[RN_JJ (kohm), Rs_JJ (kohm-um^2)] = [3.0375, 11.50227]\n",
      "[I_AB (nA), EJ (mK)] = [210.6734, 5021.83389]\n",
      "[C_JJQP (fF), EC (mK)] = [184.535, 5.03766]\n",
      "[C0 (fF), EC0 (mK)] = [463.10944, 2.00735]\n",
      "[Freq_plasma (GHz))] = [5.91719]\n",
      "[Q, Beta, EJ/EC] = [52.3, 2735.2, 2501.7]\n",
      "\n"
     ]
    }
   ],
   "source": [
    "# meas by WS, RT 2 probes\n",
    "\n",
    "print('D079 site1: \\n'+JJparameters(RN=  290e3/.5, JJwidthUM=np.sqrt( .177 *  .177), metalTHK=250E-10, Tc=1.34)+'\\n')\n",
    "print('D079 site3: \\n'+JJparameters(RN=  520e3/ 8, JJwidthUM=np.sqrt( .784 *  .263), metalTHK=250E-10, Tc=1.34)+'\\n')\n",
    "print('D079 site5: \\n'+JJparameters(RN=   27e3/ 8, JJwidthUM=np.sqrt( 2.25 *  1.74), metalTHK=250E-10, Tc=1.34)+'\\n')\n",
    "print('D079 site6: \\n'+JJparameters(RN= 2.15e3/.5, JJwidthUM=np.sqrt( 2.21 *  1.72), metalTHK=250E-10, Tc=1.34)+'\\n')\n",
    "print('D079 site0: \\n'+JJparameters(RN= 24.3e3/ 8, JJwidthUM=np.sqrt( 2.21 *  1.67), metalTHK=250E-10, Tc=1.34)+'\\n')"
   ]
  }
 ],
 "metadata": {
  "kernelspec": {
   "display_name": "Python 3",
   "language": "python",
   "name": "python3"
  },
  "language_info": {
   "codemirror_mode": {
    "name": "ipython",
    "version": 3
   },
   "file_extension": ".py",
   "mimetype": "text/x-python",
   "name": "python",
   "nbconvert_exporter": "python",
   "pygments_lexer": "ipython3",
   "version": "3.7.1"
  },
  "latex_envs": {
   "LaTeX_envs_menu_present": true,
   "autoclose": false,
   "autocomplete": true,
   "bibliofile": "biblio.bib",
   "cite_by": "apalike",
   "current_citInitial": 1,
   "eqLabelWithNumbers": true,
   "eqNumInitial": 1,
   "hotkeys": {
    "equation": "Ctrl-E",
    "itemize": "Ctrl-I"
   },
   "labels_anchors": false,
   "latex_user_defs": false,
   "report_style_numbering": false,
   "user_envs_cfg": false
  },
  "toc": {
   "base_numbering": 1,
   "nav_menu": {},
   "number_sections": true,
   "sideBar": true,
   "skip_h1_title": false,
   "title_cell": "Table of Contents",
   "title_sidebar": "Contents",
   "toc_cell": false,
   "toc_position": {},
   "toc_section_display": true,
   "toc_window_display": false
  },
  "varInspector": {
   "cols": {
    "lenName": 16,
    "lenType": 16,
    "lenVar": 40
   },
   "kernels_config": {
    "python": {
     "delete_cmd_postfix": "",
     "delete_cmd_prefix": "del ",
     "library": "var_list.py",
     "varRefreshCmd": "print(var_dic_list())"
    },
    "r": {
     "delete_cmd_postfix": ") ",
     "delete_cmd_prefix": "rm(",
     "library": "var_list.r",
     "varRefreshCmd": "cat(var_dic_list()) "
    }
   },
   "types_to_exclude": [
    "module",
    "function",
    "builtin_function_or_method",
    "instance",
    "_Feature"
   ],
   "window_display": false
  }
 },
 "nbformat": 4,
 "nbformat_minor": 2
}
