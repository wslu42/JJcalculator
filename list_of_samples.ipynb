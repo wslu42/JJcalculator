{
 "cells": [
  {
   "cell_type": "markdown",
   "metadata": {},
   "source": [
    "# lib loading"
   ]
  },
  {
   "cell_type": "code",
   "execution_count": 1,
   "metadata": {},
   "outputs": [
    {
     "ename": "ModuleNotFoundError",
     "evalue": "No module named 'si_prefix'",
     "output_type": "error",
     "traceback": [
      "\u001b[1;31m---------------------------------------------------------------------------\u001b[0m",
      "\u001b[1;31mModuleNotFoundError\u001b[0m                       Traceback (most recent call last)",
      "\u001b[1;32m<ipython-input-1-8c3b3da46ef1>\u001b[0m in \u001b[0;36m<module>\u001b[1;34m()\u001b[0m\n\u001b[1;32m----> 1\u001b[1;33m \u001b[1;32mfrom\u001b[0m \u001b[0mJJcalc\u001b[0m \u001b[1;32mimport\u001b[0m \u001b[1;33m*\u001b[0m\u001b[1;33m\u001b[0m\u001b[0m\n\u001b[0m\u001b[0;32m      2\u001b[0m \u001b[1;31m#from si_prefix import si_format\u001b[0m\u001b[1;33m\u001b[0m\u001b[1;33m\u001b[0m\u001b[0m\n\u001b[0;32m      3\u001b[0m \u001b[1;32mimport\u001b[0m \u001b[0mnumpy\u001b[0m \u001b[1;32mas\u001b[0m \u001b[0mnp\u001b[0m\u001b[1;33m\u001b[0m\u001b[0m\n\u001b[0;32m      4\u001b[0m \u001b[1;32mimport\u001b[0m \u001b[0mmatplotlib\u001b[0m\u001b[1;33m.\u001b[0m\u001b[0mpyplot\u001b[0m \u001b[1;32mas\u001b[0m \u001b[0mplt\u001b[0m\u001b[1;33m\u001b[0m\u001b[0m\n",
      "\u001b[1;32m~\\Downloads\\JJcalculator-master (1)\\JJcalculator-master\\JJcalc.py\u001b[0m in \u001b[0;36m<module>\u001b[1;34m()\u001b[0m\n\u001b[0;32m     16\u001b[0m \u001b[1;32mimport\u001b[0m \u001b[0mmatplotlib\u001b[0m\u001b[1;33m.\u001b[0m\u001b[0mpyplot\u001b[0m \u001b[1;32mas\u001b[0m \u001b[0mplt\u001b[0m\u001b[1;33m\u001b[0m\u001b[0m\n\u001b[0;32m     17\u001b[0m \u001b[1;32mimport\u001b[0m \u001b[0mtime\u001b[0m\u001b[1;33m\u001b[0m\u001b[0m\n\u001b[1;32m---> 18\u001b[1;33m \u001b[1;32mfrom\u001b[0m \u001b[0msi_prefix\u001b[0m \u001b[1;32mimport\u001b[0m \u001b[0msi_format\u001b[0m\u001b[1;33m\u001b[0m\u001b[0m\n\u001b[0m\u001b[0;32m     19\u001b[0m \u001b[1;33m\u001b[0m\u001b[0m\n\u001b[0;32m     20\u001b[0m \u001b[0mroundN\u001b[0m \u001b[1;33m=\u001b[0m \u001b[1;36m5\u001b[0m\u001b[1;33m\u001b[0m\u001b[0m\n",
      "\u001b[1;31mModuleNotFoundError\u001b[0m: No module named 'si_prefix'"
     ]
    }
   ],
   "source": [
    "from JJcalc import *\n",
    "from si_prefix import si_format\n",
    "import numpy as np\n",
    "import matplotlib.pyplot as plt"
   ]
  },
  {
   "cell_type": "markdown",
   "metadata": {},
   "source": [
    "# List of devices"
   ]
  },
  {
   "cell_type": "code",
   "execution_count": null,
   "metadata": {
    "scrolled": true
   },
   "outputs": [],
   "source": [
    "# wet oxigen 201 torr, 15min. Recorded on 191120, dep by Plamen\n",
    "print('\\nHero device: D074N4, $R_N = 21k\\Omega, E_J = 2.8K, E_C = 9.7mK$ \\n')\n",
    "\n",
    "print('D074 site9: \\n'+JJparameters(RN= 768e3/ 8, JJwidthUM=np.sqrt( .275 *  .257), metalTHK=250E-10, Tc=1.34)+'\\n')#ox 8.06\n",
    "print('D074 site1: \\n'+JJparameters(RN= 100e3/.5, JJwidthUM=np.sqrt( .211 *  .204), metalTHK=250E-10, Tc=1.34)+'\\n')#ESD damaged, 1e3 now\n",
    "print('D074 site2: \\n'+JJparameters(RN= 730e3/ 8, JJwidthUM=np.sqrt( .264 *  .254), metalTHK=250E-10, Tc=1.34)+'\\n')#ox 7.30\n",
    "print('D074 site3: \\n'+JJparameters(RN= 329e3/ 8, JJwidthUM=np.sqrt( .722 *  .285), metalTHK=250E-10, Tc=1.34)+'\\n')#ox 9.39\n",
    "print('D074 site4: \\n'+JJparameters(RN=21.7e3/ 8, JJwidthUM=np.sqrt( 1.08 *  1.77), metalTHK=250E-10, Tc=1.34)+'\\n')#ox 5.37\n",
    "print('D074 site5: \\n'+JJparameters(RN=2.21e3/ 8, JJwidthUM=np.sqrt(  2.2 *   2.2), metalTHK=250E-10, Tc=1.34)+'\\n')#secondary short\n",
    "print('D074 site6: \\n'+JJparameters(RN=1.59e3/.5, JJwidthUM=np.sqrt(  2.2 *   2.2), metalTHK=250E-10, Tc=1.34)+'\\n')#secondary short\n",
    "print('D074 site7: \\n'+JJparameters(RN= 350e3/ 8, JJwidthUM=np.sqrt( .265 *  .288), metalTHK=250E-10, Tc=1.34)+'\\n')#meas error? 104e3 now\n",
    "print('D074 site8: \\n'+JJparameters(RN=  29e3/ 8, JJwidthUM=np.sqrt( 1.04 *  1.71), metalTHK=250E-10, Tc=1.34)+'\\n')#meas error? 8.8e3 now\n",
    "print('D074 site0: \\n'+JJparameters(RN=1.63e3/ 8, JJwidthUM=np.sqrt(  2.2 *   2.2), metalTHK=250E-10, Tc=1.34)+'\\n')#secondary short"
   ]
  },
  {
   "cell_type": "code",
   "execution_count": null,
   "metadata": {
    "scrolled": true
   },
   "outputs": [],
   "source": [
    "# wet oxigen 201 torr, 15min. Recorded on 191120\n",
    "# Device depositied after D074 by Plamen\n",
    "print('unlabeled site9: \\n'+JJparameters(RN= 372e3/ 8, JJwidthUM=np.sqrt( .275 *  .257), metalTHK=250E-10, Tc=1.34)+'\\n')\n",
    "print('unlabeled site1: \\n'+JJparameters(RN=47.7e3/.5, JJwidthUM=np.sqrt( .211 *  .204), metalTHK=250E-10, Tc=1.34)+'\\n')\n",
    "print('unlabeled site8: \\n'+JJparameters(RN=  10e3/ 8, JJwidthUM=np.sqrt( .982 *  1.71), metalTHK=250E-10, Tc=1.34)+'\\n')\n",
    "print('unlabeled site0: \\n'+JJparameters(RN=  71e3/ 8, JJwidthUM=np.sqrt( 2.21 *  1.53), metalTHK=250E-10, Tc=1.34)+'\\n')"
   ]
  },
  {
   "cell_type": "code",
   "execution_count": 3,
   "metadata": {},
   "outputs": [
    {
     "ename": "NameError",
     "evalue": "name 'JJparameters' is not defined",
     "output_type": "error",
     "traceback": [
      "\u001b[1;31m---------------------------------------------------------------------------\u001b[0m",
      "\u001b[1;31mNameError\u001b[0m                                 Traceback (most recent call last)",
      "\u001b[1;32m<ipython-input-3-162fad8d7fe5>\u001b[0m in \u001b[0;36m<module>\u001b[1;34m()\u001b[0m\n\u001b[0;32m      1\u001b[0m \u001b[1;31m# wet oxigen 500 torr, 30min. Dep on 191120 by Plamen\u001b[0m\u001b[1;33m\u001b[0m\u001b[1;33m\u001b[0m\u001b[0m\n\u001b[0;32m      2\u001b[0m \u001b[1;31m# written by wsLu, skip RIE for not-enlarging trench width\u001b[0m\u001b[1;33m\u001b[0m\u001b[1;33m\u001b[0m\u001b[0m\n\u001b[1;32m----> 3\u001b[1;33m \u001b[0mprint\u001b[0m\u001b[1;33m(\u001b[0m\u001b[1;34m'D074 site9: \\n'\u001b[0m\u001b[1;33m+\u001b[0m\u001b[0mJJparameters\u001b[0m\u001b[1;33m(\u001b[0m\u001b[0mRN\u001b[0m\u001b[1;33m=\u001b[0m \u001b[1;36m768e3\u001b[0m\u001b[1;33m/\u001b[0m \u001b[1;36m8\u001b[0m\u001b[1;33m,\u001b[0m \u001b[0mJJwidthUM\u001b[0m\u001b[1;33m=\u001b[0m\u001b[0mnp\u001b[0m\u001b[1;33m.\u001b[0m\u001b[0msqrt\u001b[0m\u001b[1;33m(\u001b[0m \u001b[1;36m.275\u001b[0m \u001b[1;33m*\u001b[0m  \u001b[1;36m.257\u001b[0m\u001b[1;33m)\u001b[0m\u001b[1;33m,\u001b[0m \u001b[0mmetalTHK\u001b[0m\u001b[1;33m=\u001b[0m\u001b[1;36m250E-10\u001b[0m\u001b[1;33m,\u001b[0m \u001b[0mTc\u001b[0m\u001b[1;33m=\u001b[0m\u001b[1;36m1.34\u001b[0m\u001b[1;33m)\u001b[0m\u001b[1;33m+\u001b[0m\u001b[1;34m'\\n'\u001b[0m\u001b[1;33m)\u001b[0m\u001b[1;31m#ox 8.06\u001b[0m\u001b[1;33m\u001b[0m\u001b[0m\n\u001b[0m\u001b[0;32m      4\u001b[0m \u001b[0mprint\u001b[0m\u001b[1;33m(\u001b[0m\u001b[1;34m'D074 site1: \\n'\u001b[0m\u001b[1;33m+\u001b[0m\u001b[0mJJparameters\u001b[0m\u001b[1;33m(\u001b[0m\u001b[0mRN\u001b[0m\u001b[1;33m=\u001b[0m \u001b[1;36m100e3\u001b[0m\u001b[1;33m/\u001b[0m\u001b[1;36m.5\u001b[0m\u001b[1;33m,\u001b[0m \u001b[0mJJwidthUM\u001b[0m\u001b[1;33m=\u001b[0m\u001b[0mnp\u001b[0m\u001b[1;33m.\u001b[0m\u001b[0msqrt\u001b[0m\u001b[1;33m(\u001b[0m \u001b[1;36m.211\u001b[0m \u001b[1;33m*\u001b[0m  \u001b[1;36m.204\u001b[0m\u001b[1;33m)\u001b[0m\u001b[1;33m,\u001b[0m \u001b[0mmetalTHK\u001b[0m\u001b[1;33m=\u001b[0m\u001b[1;36m250E-10\u001b[0m\u001b[1;33m,\u001b[0m \u001b[0mTc\u001b[0m\u001b[1;33m=\u001b[0m\u001b[1;36m1.34\u001b[0m\u001b[1;33m)\u001b[0m\u001b[1;33m+\u001b[0m\u001b[1;34m'\\n'\u001b[0m\u001b[1;33m)\u001b[0m\u001b[1;31m#ESD damaged, 1e3 now\u001b[0m\u001b[1;33m\u001b[0m\u001b[0m\n\u001b[0;32m      5\u001b[0m \u001b[0mprint\u001b[0m\u001b[1;33m(\u001b[0m\u001b[1;34m'D074 site2: \\n'\u001b[0m\u001b[1;33m+\u001b[0m\u001b[0mJJparameters\u001b[0m\u001b[1;33m(\u001b[0m\u001b[0mRN\u001b[0m\u001b[1;33m=\u001b[0m \u001b[1;36m730e3\u001b[0m\u001b[1;33m/\u001b[0m \u001b[1;36m8\u001b[0m\u001b[1;33m,\u001b[0m \u001b[0mJJwidthUM\u001b[0m\u001b[1;33m=\u001b[0m\u001b[0mnp\u001b[0m\u001b[1;33m.\u001b[0m\u001b[0msqrt\u001b[0m\u001b[1;33m(\u001b[0m \u001b[1;36m.264\u001b[0m \u001b[1;33m*\u001b[0m  \u001b[1;36m.254\u001b[0m\u001b[1;33m)\u001b[0m\u001b[1;33m,\u001b[0m \u001b[0mmetalTHK\u001b[0m\u001b[1;33m=\u001b[0m\u001b[1;36m250E-10\u001b[0m\u001b[1;33m,\u001b[0m \u001b[0mTc\u001b[0m\u001b[1;33m=\u001b[0m\u001b[1;36m1.34\u001b[0m\u001b[1;33m)\u001b[0m\u001b[1;33m+\u001b[0m\u001b[1;34m'\\n'\u001b[0m\u001b[1;33m)\u001b[0m\u001b[1;31m#ox 7.30\u001b[0m\u001b[1;33m\u001b[0m\u001b[0m\n",
      "\u001b[1;31mNameError\u001b[0m: name 'JJparameters' is not defined"
     ]
    }
   ],
   "source": [
    "# wet oxigen 500 torr, 30min. Dep on 191120 by Plamen\n",
    "# written by wsLu, skip RIE for not-enlarging trench width\n",
    "print('D074 site9: \\n'+JJparameters(RN= 768e3/ 8, JJwidthUM=np.sqrt( .275 *  .257), metalTHK=250E-10, Tc=1.34)+'\\n')#ox 8.06\n",
    "print('D074 site1: \\n'+JJparameters(RN= 100e3/.5, JJwidthUM=np.sqrt( .211 *  .204), metalTHK=250E-10, Tc=1.34)+'\\n')#ESD damaged, 1e3 now\n",
    "print('D074 site2: \\n'+JJparameters(RN= 730e3/ 8, JJwidthUM=np.sqrt( .264 *  .254), metalTHK=250E-10, Tc=1.34)+'\\n')#ox 7.30\n",
    "print('D074 site3: \\n'+JJparameters(RN= 329e3/ 8, JJwidthUM=np.sqrt( .722 *  .285), metalTHK=250E-10, Tc=1.34)+'\\n')#ox 9.39\n",
    "print('D074 site4: \\n'+JJparameters(RN=21.7e3/ 8, JJwidthUM=np.sqrt( 1.08 *  1.77), metalTHK=250E-10, Tc=1.34)+'\\n')#ox 5.37\n",
    "print('D074 site5: \\n'+JJparameters(RN=2.21e3/ 8, JJwidthUM=np.sqrt(  2.2 *   2.2), metalTHK=250E-10, Tc=1.34)+'\\n')#secondary short\n",
    "print('D074 site6: \\n'+JJparameters(RN=1.59e3/.5, JJwidthUM=np.sqrt(  2.2 *   2.2), metalTHK=250E-10, Tc=1.34)+'\\n')#secondary short\n",
    "print('D074 site7: \\n'+JJparameters(RN= 350e3/ 8, JJwidthUM=np.sqrt( .265 *  .288), metalTHK=250E-10, Tc=1.34)+'\\n')#meas error? 104e3 now\n",
    "print('D074 site8: \\n'+JJparameters(RN=  29e3/ 8, JJwidthUM=np.sqrt( 1.04 *  1.71), metalTHK=250E-10, Tc=1.34)+'\\n')#meas error? 8.8e3 now\n",
    "print('D074 site0: \\n'+JJparameters(RN=1.63e3/ 8, JJwidthUM=np.sqrt(  2.2 *   2.2), metalTHK=250E-10, Tc=1.34)+'\\n')#secondary short"
   ]
  },
  {
   "cell_type": "code",
   "execution_count": 1,
   "metadata": {},
   "outputs": [
    {
     "name": "stdout",
     "output_type": "stream",
     "text": [
      "\n",
      "Hero device: D074N4, $R_N = 21k\\Omega, E_J = 2.8K, E_C = 9.7mK$ \n",
      "\n"
     ]
    },
    {
     "ename": "NameError",
     "evalue": "name 'JJparameters' is not defined",
     "output_type": "error",
     "traceback": [
      "\u001b[1;31m---------------------------------------------------------------------------\u001b[0m",
      "\u001b[1;31mNameError\u001b[0m                                 Traceback (most recent call last)",
      "\u001b[1;32m<ipython-input-1-3da9ccffec39>\u001b[0m in \u001b[0;36m<module>\u001b[1;34m()\u001b[0m\n\u001b[0;32m      2\u001b[0m \u001b[0mprint\u001b[0m\u001b[1;33m(\u001b[0m\u001b[1;34m'\\nHero device: D074N4, $R_N = 21k\\Omega, E_J = 2.8K, E_C = 9.7mK$ \\n'\u001b[0m\u001b[1;33m)\u001b[0m\u001b[1;33m\u001b[0m\u001b[0m\n\u001b[0;32m      3\u001b[0m \u001b[1;33m\u001b[0m\u001b[0m\n\u001b[1;32m----> 4\u001b[1;33m \u001b[0mprint\u001b[0m\u001b[1;33m(\u001b[0m\u001b[1;34m'D074 site5: \\n'\u001b[0m\u001b[1;33m+\u001b[0m\u001b[0mJJparameters\u001b[0m\u001b[1;33m(\u001b[0m\u001b[0mRN\u001b[0m\u001b[1;33m=\u001b[0m\u001b[1;36m142.6e3\u001b[0m\u001b[1;33m/\u001b[0m \u001b[1;36m8\u001b[0m\u001b[1;33m,\u001b[0m \u001b[0mJJwidthUM\u001b[0m\u001b[1;33m=\u001b[0m\u001b[0mnp\u001b[0m\u001b[1;33m.\u001b[0m\u001b[0msqrt\u001b[0m\u001b[1;33m(\u001b[0m  \u001b[1;36m2.2\u001b[0m \u001b[1;33m*\u001b[0m   \u001b[1;36m2.2\u001b[0m\u001b[1;33m)\u001b[0m\u001b[1;33m,\u001b[0m \u001b[0mmetalTHK\u001b[0m\u001b[1;33m=\u001b[0m\u001b[1;36m250E-10\u001b[0m\u001b[1;33m,\u001b[0m \u001b[0mTc\u001b[0m\u001b[1;33m=\u001b[0m\u001b[1;36m1.34\u001b[0m\u001b[1;33m)\u001b[0m\u001b[1;33m+\u001b[0m\u001b[1;34m'\\n'\u001b[0m\u001b[1;33m)\u001b[0m\u001b[1;31m#secondary short\u001b[0m\u001b[1;33m\u001b[0m\u001b[0m\n\u001b[0m\u001b[0;32m      5\u001b[0m \u001b[0mprint\u001b[0m\u001b[1;33m(\u001b[0m\u001b[1;34m'D074 site6: \\n'\u001b[0m\u001b[1;33m+\u001b[0m\u001b[0mJJparameters\u001b[0m\u001b[1;33m(\u001b[0m\u001b[0mRN\u001b[0m\u001b[1;33m=\u001b[0m\u001b[1;36m10.4e3\u001b[0m\u001b[1;33m/\u001b[0m\u001b[1;36m.5\u001b[0m\u001b[1;33m,\u001b[0m \u001b[0mJJwidthUM\u001b[0m\u001b[1;33m=\u001b[0m\u001b[0mnp\u001b[0m\u001b[1;33m.\u001b[0m\u001b[0msqrt\u001b[0m\u001b[1;33m(\u001b[0m  \u001b[1;36m2.2\u001b[0m \u001b[1;33m*\u001b[0m   \u001b[1;36m2.2\u001b[0m\u001b[1;33m)\u001b[0m\u001b[1;33m,\u001b[0m \u001b[0mmetalTHK\u001b[0m\u001b[1;33m=\u001b[0m\u001b[1;36m250E-10\u001b[0m\u001b[1;33m,\u001b[0m \u001b[0mTc\u001b[0m\u001b[1;33m=\u001b[0m\u001b[1;36m1.34\u001b[0m\u001b[1;33m)\u001b[0m\u001b[1;33m+\u001b[0m\u001b[1;34m'\\n'\u001b[0m\u001b[1;33m)\u001b[0m\u001b[1;31m#secondary short\u001b[0m\u001b[1;33m\u001b[0m\u001b[0m\n\u001b[0;32m      6\u001b[0m \u001b[0mprint\u001b[0m\u001b[1;33m(\u001b[0m\u001b[1;34m'D074 site8: \\n'\u001b[0m\u001b[1;33m+\u001b[0m\u001b[0mJJparameters\u001b[0m\u001b[1;33m(\u001b[0m\u001b[0mRN\u001b[0m\u001b[1;33m=\u001b[0m\u001b[1;36m315e3\u001b[0m\u001b[1;33m/\u001b[0m \u001b[1;36m8\u001b[0m\u001b[1;33m,\u001b[0m \u001b[0mJJwidthUM\u001b[0m\u001b[1;33m=\u001b[0m\u001b[0mnp\u001b[0m\u001b[1;33m.\u001b[0m\u001b[0msqrt\u001b[0m\u001b[1;33m(\u001b[0m \u001b[1;36m1.04\u001b[0m \u001b[1;33m*\u001b[0m  \u001b[1;36m1.71\u001b[0m\u001b[1;33m)\u001b[0m\u001b[1;33m,\u001b[0m \u001b[0mmetalTHK\u001b[0m\u001b[1;33m=\u001b[0m\u001b[1;36m250E-10\u001b[0m\u001b[1;33m,\u001b[0m \u001b[0mTc\u001b[0m\u001b[1;33m=\u001b[0m\u001b[1;36m1.34\u001b[0m\u001b[1;33m)\u001b[0m\u001b[1;33m+\u001b[0m\u001b[1;34m'\\n'\u001b[0m\u001b[1;33m)\u001b[0m\u001b[1;31m#meas error? 8.8e3 now\u001b[0m\u001b[1;33m\u001b[0m\u001b[0m\n",
      "\u001b[1;31mNameError\u001b[0m: name 'JJparameters' is not defined"
     ]
    }
   ],
   "source": [
    "# wet oxygen 375 torr, 30min. Recorded on 191121, dep by Plamen\n",
    "print('\\nHero device: D074N4, $R_N = 21k\\Omega, E_J = 2.8K, E_C = 9.7mK$ \\n')\n",
    "\n",
    "print('D074 site5: \\n'+JJparameters(RN=142.6e3/ 8, JJwidthUM=np.sqrt(  2.2 *   2.2), metalTHK=250E-10, Tc=1.34)+'\\n')#secondary short\n",
    "print('D074 site6: \\n'+JJparameters(RN=10.4e3/.5, JJwidthUM=np.sqrt(  2.2 *   2.2), metalTHK=250E-10, Tc=1.34)+'\\n')#secondary short\n",
    "print('D074 site8: \\n'+JJparameters(RN=315e3/ 8, JJwidthUM=np.sqrt( 1.04 *  1.71), metalTHK=250E-10, Tc=1.34)+'\\n')#meas error? 8.8e3 now\n",
    "print('D074 site0: \\n'+JJparameters(RN=147.45e3/ 8, JJwidthUM=np.sqrt(  2.2 *   2.2), metalTHK=250E-10, Tc=1.34)+'\\n')#secondary short"
   ]
  },
  {
   "cell_type": "code",
   "execution_count": null,
   "metadata": {},
   "outputs": [],
   "source": []
  }
 ],
 "metadata": {
  "kernelspec": {
   "display_name": "Python 3",
   "language": "python",
   "name": "python3"
  },
  "language_info": {
   "codemirror_mode": {
    "name": "ipython",
    "version": 3
   },
   "file_extension": ".py",
   "mimetype": "text/x-python",
   "name": "python",
   "nbconvert_exporter": "python",
   "pygments_lexer": "ipython3",
   "version": "3.7.0"
  },
  "latex_envs": {
   "LaTeX_envs_menu_present": true,
   "autoclose": false,
   "autocomplete": true,
   "bibliofile": "biblio.bib",
   "cite_by": "apalike",
   "current_citInitial": 1,
   "eqLabelWithNumbers": true,
   "eqNumInitial": 1,
   "hotkeys": {
    "equation": "Ctrl-E",
    "itemize": "Ctrl-I"
   },
   "labels_anchors": false,
   "latex_user_defs": false,
   "report_style_numbering": false,
   "user_envs_cfg": false
  },
  "toc": {
   "base_numbering": 1,
   "nav_menu": {},
   "number_sections": true,
   "sideBar": true,
   "skip_h1_title": false,
   "title_cell": "Table of Contents",
   "title_sidebar": "Contents",
   "toc_cell": false,
   "toc_position": {},
   "toc_section_display": true,
   "toc_window_display": false
  },
  "varInspector": {
   "cols": {
    "lenName": 16,
    "lenType": 16,
    "lenVar": 40
   },
   "kernels_config": {
    "python": {
     "delete_cmd_postfix": "",
     "delete_cmd_prefix": "del ",
     "library": "var_list.py",
     "varRefreshCmd": "print(var_dic_list())"
    },
    "r": {
     "delete_cmd_postfix": ") ",
     "delete_cmd_prefix": "rm(",
     "library": "var_list.r",
     "varRefreshCmd": "cat(var_dic_list()) "
    }
   },
   "types_to_exclude": [
    "module",
    "function",
    "builtin_function_or_method",
    "instance",
    "_Feature"
   ],
   "window_display": false
  }
 },
 "nbformat": 4,
 "nbformat_minor": 2
}
